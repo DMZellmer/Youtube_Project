{
 "cells": [
  {
   "cell_type": "code",
   "execution_count": 1,
   "id": "41fb882b",
   "metadata": {},
   "outputs": [],
   "source": [
    "# import libraries\n",
    "import requests\n",
    "import pandas as pd\n",
    "import time\n",
    "import json\n",
    "import pprint\n",
    "from config import host_name, dbname, port, username, password, API_KEY\n",
    "pp = pprint.PrettyPrinter(indent=2)"
   ]
  },
  {
   "cell_type": "code",
   "execution_count": 2,
   "id": "71c28c75",
   "metadata": {},
   "outputs": [],
   "source": [
    "# youtube channel ID\n",
    "CHANNEL_ID = \"UCB2wtYpfbCpYDc5TeTwuqFA\""
   ]
  },
  {
   "cell_type": "code",
   "execution_count": 3,
   "id": "b1a9c2f6",
   "metadata": {},
   "outputs": [],
   "source": [
    "# API request \n",
    "pageToken = \"\"\n",
    "url = \"https://www.googleapis.com/youtube/v3/search?key=\"+API_KEY+\"&channelId=\"+CHANNEL_ID+\"&part=snippet,id&order=date&maxResults=10000\"+pageToken\n",
    "response = requests.get(url).json()"
   ]
  },
  {
   "cell_type": "code",
   "execution_count": 4,
   "id": "bc141a0f",
   "metadata": {},
   "outputs": [
    {
     "name": "stdout",
     "output_type": "stream",
     "text": [
      "{ 'etag': 'fLDvadktf3iA_P890PDpYMo57H8',\n",
      "  'items': [ { 'etag': 'aE0uzF6wkP-QZGIcB6V4dM5A8Cg',\n",
      "               'id': {'kind': 'youtube#video', 'videoId': '7T_7e4KKBSw'},\n",
      "               'kind': 'youtube#searchResult',\n",
      "               'snippet': { 'channelId': 'UCB2wtYpfbCpYDc5TeTwuqFA',\n",
      "                            'channelTitle': 'Will Tennyson',\n",
      "                            'description': 'Do you want to be a fitness '\n",
      "                                           \"influencer? In today's vlog I \"\n",
      "                                           'outline a typical day in the life '\n",
      "                                           'of your average influencer! Hope '\n",
      "                                           'you enjoy ...',\n",
      "                            'liveBroadcastContent': 'none',\n",
      "                            'publishTime': '2022-02-24T15:00:07Z',\n",
      "                            'publishedAt': '2022-02-24T15:00:07Z',\n",
      "                            'thumbnails': { 'default': { 'height': 90,\n",
      "                                                         'url': 'https://i.ytimg.com/vi/7T_7e4KKBSw/default.jpg',\n",
      "                                                         'width': 120},\n",
      "                                            'high': { 'height': 360,\n",
      "                                                      'url': 'https://i.ytimg.com/vi/7T_7e4KKBSw/hqdefault.jpg',\n",
      "                                                      'width': 480},\n",
      "                                            'medium': { 'height': 180,\n",
      "                                                        'url': 'https://i.ytimg.com/vi/7T_7e4KKBSw/mqdefault.jpg',\n",
      "                                                        'width': 320}},\n",
      "                            'title': 'How The Fitness Industry Is Scamming '\n",
      "                                     'YOU!'}},\n",
      "             { 'etag': 'ceeSVmG6RITtwoUV5RnGDUijl3s',\n",
      "               'id': {'kind': 'youtube#video', 'videoId': '8ea_8bGLjJc'},\n",
      "               'kind': 'youtube#searchResult',\n",
      "               'snippet': { 'channelId': 'UCB2wtYpfbCpYDc5TeTwuqFA',\n",
      "                            'channelTitle': 'Will Tennyson',\n",
      "                            'description': 'What does the \"PERFECT\" day of '\n",
      "                                           'eating look like according to '\n",
      "                                           \"dieticians? In today's video I go \"\n",
      "                                           'through a sample day of how you '\n",
      "                                           '...',\n",
      "                            'liveBroadcastContent': 'none',\n",
      "                            'publishTime': '2022-02-20T15:00:04Z',\n",
      "                            'publishedAt': '2022-02-20T15:00:04Z',\n",
      "                            'thumbnails': { 'default': { 'height': 90,\n",
      "                                                         'url': 'https://i.ytimg.com/vi/8ea_8bGLjJc/default.jpg',\n",
      "                                                         'width': 120},\n",
      "                                            'high': { 'height': 360,\n",
      "                                                      'url': 'https://i.ytimg.com/vi/8ea_8bGLjJc/hqdefault.jpg',\n",
      "                                                      'width': 480},\n",
      "                                            'medium': { 'height': 180,\n",
      "                                                        'url': 'https://i.ytimg.com/vi/8ea_8bGLjJc/mqdefault.jpg',\n",
      "                                                        'width': 320}},\n",
      "                            'title': 'I Tried The World&#39;s Strictest Diet '\n",
      "                                     '(According To Science)'}},\n",
      "             { 'etag': 'NekhFFmRaFNBPlg_MB0LzkIg2xU',\n",
      "               'id': {'kind': 'youtube#video', 'videoId': '3ayRRjn-NMc'},\n",
      "               'kind': 'youtube#searchResult',\n",
      "               'snippet': { 'channelId': 'UCB2wtYpfbCpYDc5TeTwuqFA',\n",
      "                            'channelTitle': 'Will Tennyson',\n",
      "                            'description': 'Social media is full of lies! '\n",
      "                                           'Especially in the fitness '\n",
      "                                           \"industry. In today's vlog I show \"\n",
      "                                           'you 13 ways you can spot a fake '\n",
      "                                           'natty!',\n",
      "                            'liveBroadcastContent': 'none',\n",
      "                            'publishTime': '2022-02-17T15:00:01Z',\n",
      "                            'publishedAt': '2022-02-17T15:00:01Z',\n",
      "                            'thumbnails': { 'default': { 'height': 90,\n",
      "                                                         'url': 'https://i.ytimg.com/vi/3ayRRjn-NMc/default.jpg',\n",
      "                                                         'width': 120},\n",
      "                                            'high': { 'height': 360,\n",
      "                                                      'url': 'https://i.ytimg.com/vi/3ayRRjn-NMc/hqdefault.jpg',\n",
      "                                                      'width': 480},\n",
      "                                            'medium': { 'height': 180,\n",
      "                                                        'url': 'https://i.ytimg.com/vi/3ayRRjn-NMc/mqdefault.jpg',\n",
      "                                                        'width': 320}},\n",
      "                            'title': 'Confessions Of A Fake Natty'}},\n",
      "             { 'etag': 'dPcxTUQ6SxGIWP-q8wjrs9MaDcs',\n",
      "               'id': {'kind': 'youtube#video', 'videoId': 'iwh1CG49TXA'},\n",
      "               'kind': 'youtube#searchResult',\n",
      "               'snippet': { 'channelId': 'UCB2wtYpfbCpYDc5TeTwuqFA',\n",
      "                            'channelTitle': 'Will Tennyson',\n",
      "                            'description': 'For the next 7 days I went on a '\n",
      "                                           'CRASH diet that you should NEVER '\n",
      "                                           'do! A lot of people love the idea '\n",
      "                                           'of quick results. But at what ...',\n",
      "                            'liveBroadcastContent': 'none',\n",
      "                            'publishTime': '2022-02-10T15:00:21Z',\n",
      "                            'publishedAt': '2022-02-10T15:00:21Z',\n",
      "                            'thumbnails': { 'default': { 'height': 90,\n",
      "                                                         'url': 'https://i.ytimg.com/vi/iwh1CG49TXA/default.jpg',\n",
      "                                                         'width': 120},\n",
      "                                            'high': { 'height': 360,\n",
      "                                                      'url': 'https://i.ytimg.com/vi/iwh1CG49TXA/hqdefault.jpg',\n",
      "                                                      'width': 480},\n",
      "                                            'medium': { 'height': 180,\n",
      "                                                        'url': 'https://i.ytimg.com/vi/iwh1CG49TXA/mqdefault.jpg',\n",
      "                                                        'width': 320}},\n",
      "                            'title': 'I Went On A 7 Day CRASH Diet! (10lbs in '\n",
      "                                     '1 Week!?)'}},\n",
      "             { 'etag': 'AGCOwwr-2RvZ3Beo7iqn1-avHNQ',\n",
      "               'id': {'kind': 'youtube#video', 'videoId': '58al2-NpGO8'},\n",
      "               'kind': 'youtube#searchResult',\n",
      "               'snippet': { 'channelId': 'UCB2wtYpfbCpYDc5TeTwuqFA',\n",
      "                            'channelTitle': 'Will Tennyson',\n",
      "                            'description': \"Today I'm embracing the \"\n",
      "                                           'stereotypes of the typical gym '\n",
      "                                           '\"bro\"...from the start of my day '\n",
      "                                           'to the end I follow some of the '\n",
      "                                           'old school ...',\n",
      "                            'liveBroadcastContent': 'none',\n",
      "                            'publishTime': '2022-02-06T15:00:02Z',\n",
      "                            'publishedAt': '2022-02-06T15:00:02Z',\n",
      "                            'thumbnails': { 'default': { 'height': 90,\n",
      "                                                         'url': 'https://i.ytimg.com/vi/58al2-NpGO8/default.jpg',\n",
      "                                                         'width': 120},\n",
      "                                            'high': { 'height': 360,\n",
      "                                                      'url': 'https://i.ytimg.com/vi/58al2-NpGO8/hqdefault.jpg',\n",
      "                                                      'width': 480},\n",
      "                                            'medium': { 'height': 180,\n",
      "                                                        'url': 'https://i.ytimg.com/vi/58al2-NpGO8/mqdefault.jpg',\n",
      "                                                        'width': 320}},\n",
      "                            'title': 'Living Like The Ultimate Gym '\n",
      "                                     '&quot;BRO&quot;'}},\n",
      "             { 'etag': 'Pdp7CnbBHoLW9HQLVjQgWjZeJao',\n",
      "               'id': {'kind': 'youtube#video', 'videoId': 'GU2PsqltlNw'},\n",
      "               'kind': 'youtube#searchResult',\n",
      "               'snippet': { 'channelId': 'UCB2wtYpfbCpYDc5TeTwuqFA',\n",
      "                            'channelTitle': 'Will Tennyson',\n",
      "                            'description': \"Today I'm visiting Tik Tok to see \"\n",
      "                                           'if the low calorie \"food hacks\" '\n",
      "                                           'actually taste good! Tons of super '\n",
      "                                           'interesting recipes and I give you '\n",
      "                                           '...',\n",
      "                            'liveBroadcastContent': 'none',\n",
      "                            'publishTime': '2022-02-03T15:00:15Z',\n",
      "                            'publishedAt': '2022-02-03T15:00:15Z',\n",
      "                            'thumbnails': { 'default': { 'height': 90,\n",
      "                                                         'url': 'https://i.ytimg.com/vi/GU2PsqltlNw/default.jpg',\n",
      "                                                         'width': 120},\n",
      "                                            'high': { 'height': 360,\n",
      "                                                      'url': 'https://i.ytimg.com/vi/GU2PsqltlNw/hqdefault.jpg',\n",
      "                                                      'width': 480},\n",
      "                                            'medium': { 'height': 180,\n",
      "                                                        'url': 'https://i.ytimg.com/vi/GU2PsqltlNw/mqdefault.jpg',\n",
      "                                                        'width': 320}},\n",
      "                            'title': 'Trying Low Calorie Tik Tok Food Hacks to '\n",
      "                                     'see if they work'}},\n",
      "             { 'etag': 'vdPIUiK671Xrz_KFDWg9nMq1G60',\n",
      "               'id': {'kind': 'youtube#video', 'videoId': 'CBhRhbxDm6w'},\n",
      "               'kind': 'youtube#searchResult',\n",
      "               'snippet': { 'channelId': 'UCB2wtYpfbCpYDc5TeTwuqFA',\n",
      "                            'channelTitle': 'Will Tennyson',\n",
      "                            'description': 'Magic Spoon w/ Code: \"WILL\" '\n",
      "                                           'magicspoon.com/will An updated '\n",
      "                                           'diet and training video! Hope you '\n",
      "                                           'enjoy. Thanks for watching!',\n",
      "                            'liveBroadcastContent': 'none',\n",
      "                            'publishTime': '2022-01-30T15:00:11Z',\n",
      "                            'publishedAt': '2022-01-30T15:00:11Z',\n",
      "                            'thumbnails': { 'default': { 'height': 90,\n",
      "                                                         'url': 'https://i.ytimg.com/vi/CBhRhbxDm6w/default.jpg',\n",
      "                                                         'width': 120},\n",
      "                                            'high': { 'height': 360,\n",
      "                                                      'url': 'https://i.ytimg.com/vi/CBhRhbxDm6w/hqdefault.jpg',\n",
      "                                                      'width': 480},\n",
      "                                            'medium': { 'height': 180,\n",
      "                                                        'url': 'https://i.ytimg.com/vi/CBhRhbxDm6w/mqdefault.jpg',\n",
      "                                                        'width': 320}},\n",
      "                            'title': 'My Cutting DIET &amp; ROUTINE | Healthy '\n",
      "                                     'Recipes + Workout'}},\n",
      "             { 'etag': '3notO30lESngMLKk1ugPfW29di4',\n",
      "               'id': {'kind': 'youtube#video', 'videoId': 'hEqkeA6zddI'},\n",
      "               'kind': 'youtube#searchResult',\n",
      "               'snippet': { 'channelId': 'UCB2wtYpfbCpYDc5TeTwuqFA',\n",
      "                            'channelTitle': 'Will Tennyson',\n",
      "                            'description': 'Today I see if I have what it '\n",
      "                                           'takes to survive an IFBB PRO '\n",
      "                                           \"female bodybuilder's brutal leg \"\n",
      "                                           'workout! Video includes lots and '\n",
      "                                           'lots of ...',\n",
      "                            'liveBroadcastContent': 'none',\n",
      "                            'publishTime': '2022-01-27T15:00:27Z',\n",
      "                            'publishedAt': '2022-01-27T15:00:27Z',\n",
      "                            'thumbnails': { 'default': { 'height': 90,\n",
      "                                                         'url': 'https://i.ytimg.com/vi/hEqkeA6zddI/default.jpg',\n",
      "                                                         'width': 120},\n",
      "                                            'high': { 'height': 360,\n",
      "                                                      'url': 'https://i.ytimg.com/vi/hEqkeA6zddI/hqdefault.jpg',\n",
      "                                                      'width': 480},\n",
      "                                            'medium': { 'height': 180,\n",
      "                                                        'url': 'https://i.ytimg.com/vi/hEqkeA6zddI/mqdefault.jpg',\n",
      "                                                        'width': 320}},\n",
      "                            'title': 'WHO’S STRONGER? | Male vs Female '\n",
      "                                     'Bodybuilder'}},\n",
      "             { 'etag': 'VB2WosQe5WCN9DTDRJKmWzaiRPM',\n",
      "               'id': {'kind': 'youtube#video', 'videoId': 'gSTHPqdBgUs'},\n",
      "               'kind': 'youtube#searchResult',\n",
      "               'snippet': { 'channelId': 'UCB2wtYpfbCpYDc5TeTwuqFA',\n",
      "                            'channelTitle': 'Will Tennyson',\n",
      "                            'description': 'To gain muscle you have some '\n",
      "                                           'options! You can \"dirty\" bulk OR '\n",
      "                                           'you can \"clean\" bulk. But, which '\n",
      "                                           \"road should you take? In today's \"\n",
      "                                           '...',\n",
      "                            'liveBroadcastContent': 'none',\n",
      "                            'publishTime': '2022-01-23T15:00:32Z',\n",
      "                            'publishedAt': '2022-01-23T15:00:32Z',\n",
      "                            'thumbnails': { 'default': { 'height': 90,\n",
      "                                                         'url': 'https://i.ytimg.com/vi/gSTHPqdBgUs/default.jpg',\n",
      "                                                         'width': 120},\n",
      "                                            'high': { 'height': 360,\n",
      "                                                      'url': 'https://i.ytimg.com/vi/gSTHPqdBgUs/hqdefault.jpg',\n",
      "                                                      'width': 480},\n",
      "                                            'medium': { 'height': 180,\n",
      "                                                        'url': 'https://i.ytimg.com/vi/gSTHPqdBgUs/mqdefault.jpg',\n",
      "                                                        'width': 320}},\n",
      "                            'title': 'Should You &quot;EAT BIG TO GET '\n",
      "                                     'BIG&quot;? (Clean vs Dirty Bulk)'}},\n",
      "             { 'etag': 'L4-YZu7V_PFloBPI2SCYuN83nTE',\n",
      "               'id': {'kind': 'youtube#video', 'videoId': 'pIkbRaz_pSU'},\n",
      "               'kind': 'youtube#searchResult',\n",
      "               'snippet': { 'channelId': 'UCB2wtYpfbCpYDc5TeTwuqFA',\n",
      "                            'channelTitle': 'Will Tennyson',\n",
      "                            'description': 'I take on one of the weirdest '\n",
      "                                           'daily routines to date! Tristyn '\n",
      "                                           'Lee is easily the most shredded '\n",
      "                                           'kid many of us have ever seen.',\n",
      "                            'liveBroadcastContent': 'none',\n",
      "                            'publishTime': '2022-01-20T15:00:24Z',\n",
      "                            'publishedAt': '2022-01-20T15:00:24Z',\n",
      "                            'thumbnails': { 'default': { 'height': 90,\n",
      "                                                         'url': 'https://i.ytimg.com/vi/pIkbRaz_pSU/default.jpg',\n",
      "                                                         'width': 120},\n",
      "                                            'high': { 'height': 360,\n",
      "                                                      'url': 'https://i.ytimg.com/vi/pIkbRaz_pSU/hqdefault.jpg',\n",
      "                                                      'width': 480},\n",
      "                                            'medium': { 'height': 180,\n",
      "                                                        'url': 'https://i.ytimg.com/vi/pIkbRaz_pSU/mqdefault.jpg',\n",
      "                                                        'width': 320}},\n",
      "                            'title': 'I Tried The World&#39;s Fittest '\n",
      "                                     'Kid&#39;s Diet &amp; Workout'}},\n",
      "             { 'etag': 'SLKsp1NdNdxR6PBTl9p0zBw2eMg',\n",
      "               'id': {'kind': 'youtube#video', 'videoId': 'NCPPSAiTqgs'},\n",
      "               'kind': 'youtube#searchResult',\n",
      "               'snippet': { 'channelId': 'UCB2wtYpfbCpYDc5TeTwuqFA',\n",
      "                            'channelTitle': 'Will Tennyson',\n",
      "                            'description': 'Today I go through the diet and '\n",
      "                                           'workout of a fitness legend, ZYZZ! '\n",
      "                                           'He was an inspiration to many '\n",
      "                                           'first getting into the gym.',\n",
      "                            'liveBroadcastContent': 'none',\n",
      "                            'publishTime': '2022-01-16T15:00:22Z',\n",
      "                            'publishedAt': '2022-01-16T15:00:22Z',\n",
      "                            'thumbnails': { 'default': { 'height': 90,\n",
      "                                                         'url': 'https://i.ytimg.com/vi/NCPPSAiTqgs/default.jpg',\n",
      "                                                         'width': 120},\n",
      "                                            'high': { 'height': 360,\n",
      "                                                      'url': 'https://i.ytimg.com/vi/NCPPSAiTqgs/hqdefault.jpg',\n",
      "                                                      'width': 480},\n",
      "                                            'medium': { 'height': 180,\n",
      "                                                        'url': 'https://i.ytimg.com/vi/NCPPSAiTqgs/mqdefault.jpg',\n",
      "                                                        'width': 320}},\n",
      "                            'title': 'ZYZZ Diet &amp; Workout To Become The '\n",
      "                                     'Aesthetic God'}},\n",
      "             { 'etag': '2MWl1nb-W6-w-mC63ElNjyPMqNs',\n",
      "               'id': {'kind': 'youtube#video', 'videoId': 'vbTcdBL9lGY'},\n",
      "               'kind': 'youtube#searchResult',\n",
      "               'snippet': { 'channelId': 'UCB2wtYpfbCpYDc5TeTwuqFA',\n",
      "                            'channelTitle': 'Will Tennyson',\n",
      "                            'description': \"There's bro science and then \"\n",
      "                                           \"there's ACTUAL science! In today's \"\n",
      "                                           'video I follow some of the top '\n",
      "                                           'things that science says you ...',\n",
      "                            'liveBroadcastContent': 'none',\n",
      "                            'publishTime': '2022-01-13T15:00:28Z',\n",
      "                            'publishedAt': '2022-01-13T15:00:28Z',\n",
      "                            'thumbnails': { 'default': { 'height': 90,\n",
      "                                                         'url': 'https://i.ytimg.com/vi/vbTcdBL9lGY/default.jpg',\n",
      "                                                         'width': 120},\n",
      "                                            'high': { 'height': 360,\n",
      "                                                      'url': 'https://i.ytimg.com/vi/vbTcdBL9lGY/hqdefault.jpg',\n",
      "                                                      'width': 480},\n",
      "                                            'medium': { 'height': 180,\n",
      "                                                        'url': 'https://i.ytimg.com/vi/vbTcdBL9lGY/mqdefault.jpg',\n",
      "                                                        'width': 320}},\n",
      "                            'title': 'World’s Most Productive Day To Build '\n",
      "                                     'Muscle (Science Says)'}},\n",
      "             { 'etag': 'lpLusMDhMOChnO7cETaGYq9N5Zk',\n",
      "               'id': {'kind': 'youtube#video', 'videoId': '0QXaAQMwfBI'},\n",
      "               'kind': 'youtube#searchResult',\n",
      "               'snippet': { 'channelId': 'UCB2wtYpfbCpYDc5TeTwuqFA',\n",
      "                            'channelTitle': 'Will Tennyson',\n",
      "                            'description': 'Today I go back in time to when I '\n",
      "                                           'NEVER stepped foot in the gym but '\n",
      "                                           'with my current knowledge. How '\n",
      "                                           'would I eat, train and stay ...',\n",
      "                            'liveBroadcastContent': 'none',\n",
      "                            'publishTime': '2022-01-09T15:00:01Z',\n",
      "                            'publishedAt': '2022-01-09T15:00:01Z',\n",
      "                            'thumbnails': { 'default': { 'height': 90,\n",
      "                                                         'url': 'https://i.ytimg.com/vi/0QXaAQMwfBI/default.jpg',\n",
      "                                                         'width': 120},\n",
      "                                            'high': { 'height': 360,\n",
      "                                                      'url': 'https://i.ytimg.com/vi/0QXaAQMwfBI/hqdefault.jpg',\n",
      "                                                      'width': 480},\n",
      "                                            'medium': { 'height': 180,\n",
      "                                                        'url': 'https://i.ytimg.com/vi/0QXaAQMwfBI/mqdefault.jpg',\n",
      "                                                        'width': 320}},\n",
      "                            'title': 'Beginner&#39;s Gym Survival Guide'}},\n",
      "             { 'etag': 'pFfprKet7T3ZLMunto_0TX2CIXI',\n",
      "               'id': {'kind': 'youtube#video', 'videoId': 'SQbDvwciyDM'},\n",
      "               'kind': 'youtube#searchResult',\n",
      "               'snippet': { 'channelId': 'UCB2wtYpfbCpYDc5TeTwuqFA',\n",
      "                            'channelTitle': 'Will Tennyson',\n",
      "                            'description': 'Today the tables have turned and '\n",
      "                                           \"it's now my turn for a YES day! A \"\n",
      "                                           'few months ago I gave my '\n",
      "                                           'girlfriend Katie a yes day...if '\n",
      "                                           'the ...',\n",
      "                            'liveBroadcastContent': 'none',\n",
      "                            'publishTime': '2022-01-06T15:00:10Z',\n",
      "                            'publishedAt': '2022-01-06T15:00:10Z',\n",
      "                            'thumbnails': { 'default': { 'height': 90,\n",
      "                                                         'url': 'https://i.ytimg.com/vi/SQbDvwciyDM/default.jpg',\n",
      "                                                         'width': 120},\n",
      "                                            'high': { 'height': 360,\n",
      "                                                      'url': 'https://i.ytimg.com/vi/SQbDvwciyDM/hqdefault.jpg',\n",
      "                                                      'width': 480},\n",
      "                                            'medium': { 'height': 180,\n",
      "                                                        'url': 'https://i.ytimg.com/vi/SQbDvwciyDM/mqdefault.jpg',\n",
      "                                                        'width': 320}},\n",
      "                            'title': 'Girlfriend Says YES For 24 HOURS!'}},\n",
      "             { 'etag': 'y_fPkQvQgOs1UkpDOGayylPG2pE',\n",
      "               'id': {'kind': 'youtube#video', 'videoId': 'MZT6C1zQr8k'},\n",
      "               'kind': 'youtube#searchResult',\n",
      "               'snippet': { 'channelId': 'UCB2wtYpfbCpYDc5TeTwuqFA',\n",
      "                            'channelTitle': 'Will Tennyson',\n",
      "                            'description': \"Today I attempt Rich Piana's CRAZY \"\n",
      "                                           '8 hour arm workout that apparently '\n",
      "                                           'promises to add 1 inch to your '\n",
      "                                           'arms in 24 hours.',\n",
      "                            'liveBroadcastContent': 'none',\n",
      "                            'publishTime': '2022-01-02T15:00:14Z',\n",
      "                            'publishedAt': '2022-01-02T15:00:14Z',\n",
      "                            'thumbnails': { 'default': { 'height': 90,\n",
      "                                                         'url': 'https://i.ytimg.com/vi/MZT6C1zQr8k/default.jpg',\n",
      "                                                         'width': 120},\n",
      "                                            'high': { 'height': 360,\n",
      "                                                      'url': 'https://i.ytimg.com/vi/MZT6C1zQr8k/hqdefault.jpg',\n",
      "                                                      'width': 480},\n",
      "                                            'medium': { 'height': 180,\n",
      "                                                        'url': 'https://i.ytimg.com/vi/MZT6C1zQr8k/mqdefault.jpg',\n",
      "                                                        'width': 320}},\n",
      "                            'title': 'Natural Bodybuilder vs Rich Piana&#39;s '\n",
      "                                     'Diet &amp; Training'}},\n",
      "             { 'etag': 'rW9xMNZTzyPQNB5XiTeYITk6dA8',\n",
      "               'id': {'kind': 'youtube#video', 'videoId': 'kxWT7ouwBjM'},\n",
      "               'kind': 'youtube#searchResult',\n",
      "               'snippet': { 'channelId': 'UCB2wtYpfbCpYDc5TeTwuqFA',\n",
      "                            'channelTitle': 'Will Tennyson',\n",
      "                            'description': 'We have a lot of extremely '\n",
      "                                           'talented people around the world '\n",
      "                                           'and for the WEIRDEST things! In '\n",
      "                                           \"today's vlog I attempt to break \"\n",
      "                                           'some ...',\n",
      "                            'liveBroadcastContent': 'none',\n",
      "                            'publishTime': '2021-12-30T15:00:35Z',\n",
      "                            'publishedAt': '2021-12-30T15:00:35Z',\n",
      "                            'thumbnails': { 'default': { 'height': 90,\n",
      "                                                         'url': 'https://i.ytimg.com/vi/kxWT7ouwBjM/default.jpg',\n",
      "                                                         'width': 120},\n",
      "                                            'high': { 'height': 360,\n",
      "                                                      'url': 'https://i.ytimg.com/vi/kxWT7ouwBjM/hqdefault.jpg',\n",
      "                                                      'width': 480},\n",
      "                                            'medium': { 'height': 180,\n",
      "                                                        'url': 'https://i.ytimg.com/vi/kxWT7ouwBjM/mqdefault.jpg',\n",
      "                                                        'width': 320}},\n",
      "                            'title': 'Trying To Beat Crazy World Record&#39;s '\n",
      "                                     '(NEW Record!)'}},\n",
      "             { 'etag': '3367-x2LmYNszLq8uVLEZ6LDnTg',\n",
      "               'id': {'kind': 'youtube#video', 'videoId': 'fb3C_3-1n_g'},\n",
      "               'kind': 'youtube#searchResult',\n",
      "               'snippet': { 'channelId': 'UCB2wtYpfbCpYDc5TeTwuqFA',\n",
      "                            'channelTitle': 'Will Tennyson',\n",
      "                            'description': 'Here are the 13 reasons why YOU '\n",
      "                                           \"can't lose that extra bit of fat! \"\n",
      "                                           'A lot of us when we go on a diet '\n",
      "                                           'go to the extremes, which is why '\n",
      "                                           '...',\n",
      "                            'liveBroadcastContent': 'none',\n",
      "                            'publishTime': '2021-12-26T15:00:13Z',\n",
      "                            'publishedAt': '2021-12-26T15:00:13Z',\n",
      "                            'thumbnails': { 'default': { 'height': 90,\n",
      "                                                         'url': 'https://i.ytimg.com/vi/fb3C_3-1n_g/default.jpg',\n",
      "                                                         'width': 120},\n",
      "                                            'high': { 'height': 360,\n",
      "                                                      'url': 'https://i.ytimg.com/vi/fb3C_3-1n_g/hqdefault.jpg',\n",
      "                                                      'width': 480},\n",
      "                                            'medium': { 'height': 180,\n",
      "                                                        'url': 'https://i.ytimg.com/vi/fb3C_3-1n_g/mqdefault.jpg',\n",
      "                                                        'width': 320}},\n",
      "                            'title': 'Why You&#39;re Not Losing Fat (Don&#39;t '\n",
      "                                     'Do THESE!)'}},\n",
      "             { 'etag': 'zAm0medI-hA2osDrjbshIahhFA0',\n",
      "               'id': {'kind': 'youtube#video', 'videoId': 'l4x1wqaWSWY'},\n",
      "               'kind': 'youtube#searchResult',\n",
      "               'snippet': { 'channelId': 'UCB2wtYpfbCpYDc5TeTwuqFA',\n",
      "                            'channelTitle': 'Will Tennyson',\n",
      "                            'description': '6 AMAZING Budget Friendly meals! 1 '\n",
      "                                           'hot option and 1 cold option for '\n",
      "                                           'each meal of the day. Save money '\n",
      "                                           'and have incredible ...',\n",
      "                            'liveBroadcastContent': 'none',\n",
      "                            'publishTime': '2021-12-23T15:00:26Z',\n",
      "                            'publishedAt': '2021-12-23T15:00:26Z',\n",
      "                            'thumbnails': { 'default': { 'height': 90,\n",
      "                                                         'url': 'https://i.ytimg.com/vi/l4x1wqaWSWY/default.jpg',\n",
      "                                                         'width': 120},\n",
      "                                            'high': { 'height': 360,\n",
      "                                                      'url': 'https://i.ytimg.com/vi/l4x1wqaWSWY/hqdefault.jpg',\n",
      "                                                      'width': 480},\n",
      "                                            'medium': { 'height': 180,\n",
      "                                                        'url': 'https://i.ytimg.com/vi/l4x1wqaWSWY/mqdefault.jpg',\n",
      "                                                        'width': 320}},\n",
      "                            'title': 'Healthy Meal Prep On A Budget (6 Easy '\n",
      "                                     'Recipes)'}},\n",
      "             { 'etag': 'LWmDJbiM4VqWf7C4giMDnnK-S6I',\n",
      "               'id': {'kind': 'youtube#video', 'videoId': 'DyiHS28xYT8'},\n",
      "               'kind': 'youtube#searchResult',\n",
      "               'snippet': { 'channelId': 'UCB2wtYpfbCpYDc5TeTwuqFA',\n",
      "                            'channelTitle': 'Will Tennyson',\n",
      "                            'description': 'For our anniversary I surprised my '\n",
      "                                           'beautiful girlfriend Katie with an '\n",
      "                                           'amazing trip to New York City! '\n",
      "                                           'With the both of us being ...',\n",
      "                            'liveBroadcastContent': 'none',\n",
      "                            'publishTime': '2021-12-16T15:00:14Z',\n",
      "                            'publishedAt': '2021-12-16T15:00:14Z',\n",
      "                            'thumbnails': { 'default': { 'height': 90,\n",
      "                                                         'url': 'https://i.ytimg.com/vi/DyiHS28xYT8/default.jpg',\n",
      "                                                         'width': 120},\n",
      "                                            'high': { 'height': 360,\n",
      "                                                      'url': 'https://i.ytimg.com/vi/DyiHS28xYT8/hqdefault.jpg',\n",
      "                                                      'width': 480},\n",
      "                                            'medium': { 'height': 180,\n",
      "                                                        'url': 'https://i.ytimg.com/vi/DyiHS28xYT8/mqdefault.jpg',\n",
      "                                                        'width': 320}},\n",
      "                            'title': 'Cheat Day In NYC That Went Too Far...'}},\n",
      "             { 'etag': '_q-NAC_BRGu3NBkeUGUqUp5Nunk',\n",
      "               'id': {'kind': 'youtube#video', 'videoId': 'cD14VZCwMoY'},\n",
      "               'kind': 'youtube#searchResult',\n",
      "               'snippet': { 'channelId': 'UCB2wtYpfbCpYDc5TeTwuqFA',\n",
      "                            'channelTitle': 'Will Tennyson',\n",
      "                            'description': \"I decided to try Chris Hemsworth's \"\n",
      "                                           'workout app, CENTR! for $369 you '\n",
      "                                           'get unlimited workouts, recipes, '\n",
      "                                           'cardio/ stretching protocols ...',\n",
      "                            'liveBroadcastContent': 'none',\n",
      "                            'publishTime': '2021-12-12T15:00:16Z',\n",
      "                            'publishedAt': '2021-12-12T15:00:16Z',\n",
      "                            'thumbnails': { 'default': { 'height': 90,\n",
      "                                                         'url': 'https://i.ytimg.com/vi/cD14VZCwMoY/default.jpg',\n",
      "                                                         'width': 120},\n",
      "                                            'high': { 'height': 360,\n",
      "                                                      'url': 'https://i.ytimg.com/vi/cD14VZCwMoY/hqdefault.jpg',\n",
      "                                                      'width': 480},\n",
      "                                            'medium': { 'height': 180,\n",
      "                                                        'url': 'https://i.ytimg.com/vi/cD14VZCwMoY/mqdefault.jpg',\n",
      "                                                        'width': 320}},\n",
      "                            'title': 'Paying $369 For Chris Hemsworth&#39;s '\n",
      "                                     'CENTR APP (Waste?)'}},\n",
      "             { 'etag': 'HKtHWfFRsmKBFNGUQLfWQ0cEf_8',\n",
      "               'id': {'kind': 'youtube#video', 'videoId': 'kTox6m-l4no'},\n",
      "               'kind': 'youtube#searchResult',\n",
      "               'snippet': { 'channelId': 'UCB2wtYpfbCpYDc5TeTwuqFA',\n",
      "                            'channelTitle': 'Will Tennyson',\n",
      "                            'description': \"Here's a look at my daily \"\n",
      "                                           'routine/diet I used to make some '\n",
      "                                           'great fat loss progress over the '\n",
      "                                           'past 30 days! I share all my '\n",
      "                                           'meals, ...',\n",
      "                            'liveBroadcastContent': 'none',\n",
      "                            'publishTime': '2021-12-09T15:00:37Z',\n",
      "                            'publishedAt': '2021-12-09T15:00:37Z',\n",
      "                            'thumbnails': { 'default': { 'height': 90,\n",
      "                                                         'url': 'https://i.ytimg.com/vi/kTox6m-l4no/default.jpg',\n",
      "                                                         'width': 120},\n",
      "                                            'high': { 'height': 360,\n",
      "                                                      'url': 'https://i.ytimg.com/vi/kTox6m-l4no/hqdefault.jpg',\n",
      "                                                      'width': 480},\n",
      "                                            'medium': { 'height': 180,\n",
      "                                                        'url': 'https://i.ytimg.com/vi/kTox6m-l4no/mqdefault.jpg',\n",
      "                                                        'width': 320}},\n",
      "                            'title': 'I Got Shredded In 30 Days (Realistic '\n",
      "                                     'Results)'}},\n",
      "             { 'etag': 'aa6Ie194JDV-Ca_N9-jmrmhhbE8',\n",
      "               'id': {'kind': 'youtube#video', 'videoId': 'SQ4YHfJNvu8'},\n",
      "               'kind': 'youtube#searchResult',\n",
      "               'snippet': { 'channelId': 'UCB2wtYpfbCpYDc5TeTwuqFA',\n",
      "                            'channelTitle': 'Will Tennyson',\n",
      "                            'description': \"In today's video I take Greg \"\n",
      "                                           'Doucette through one of my chest & '\n",
      "                                           'back workouts! By the end of the '\n",
      "                                           'workout he gives me my honest ...',\n",
      "                            'liveBroadcastContent': 'none',\n",
      "                            'publishTime': '2021-12-05T15:00:25Z',\n",
      "                            'publishedAt': '2021-12-05T15:00:25Z',\n",
      "                            'thumbnails': { 'default': { 'height': 90,\n",
      "                                                         'url': 'https://i.ytimg.com/vi/SQ4YHfJNvu8/default.jpg',\n",
      "                                                         'width': 120},\n",
      "                                            'high': { 'height': 360,\n",
      "                                                      'url': 'https://i.ytimg.com/vi/SQ4YHfJNvu8/hqdefault.jpg',\n",
      "                                                      'width': 480},\n",
      "                                            'medium': { 'height': 180,\n",
      "                                                        'url': 'https://i.ytimg.com/vi/SQ4YHfJNvu8/mqdefault.jpg',\n",
      "                                                        'width': 320}},\n",
      "                            'title': 'Eating &amp; Training W/ Greg Doucette'}},\n",
      "             { 'etag': 'Qc4QOH35IvuxIpZcSr3pAUem-xM',\n",
      "               'id': {'kind': 'youtube#video', 'videoId': 'QkjIP0fQOL4'},\n",
      "               'kind': 'youtube#searchResult',\n",
      "               'snippet': { 'channelId': 'UCB2wtYpfbCpYDc5TeTwuqFA',\n",
      "                            'channelTitle': 'Will Tennyson',\n",
      "                            'description': 'Growing up as a kid I always loved '\n",
      "                                           \"frozen meals! In today's video I \"\n",
      "                                           \"wanted to see if they've gotten \"\n",
      "                                           'better as time passed. For the ...',\n",
      "                            'liveBroadcastContent': 'none',\n",
      "                            'publishTime': '2021-12-02T15:00:22Z',\n",
      "                            'publishedAt': '2021-12-02T15:00:22Z',\n",
      "                            'thumbnails': { 'default': { 'height': 90,\n",
      "                                                         'url': 'https://i.ytimg.com/vi/QkjIP0fQOL4/default.jpg',\n",
      "                                                         'width': 120},\n",
      "                                            'high': { 'height': 360,\n",
      "                                                      'url': 'https://i.ytimg.com/vi/QkjIP0fQOL4/hqdefault.jpg',\n",
      "                                                      'width': 480},\n",
      "                                            'medium': { 'height': 180,\n",
      "                                                        'url': 'https://i.ytimg.com/vi/QkjIP0fQOL4/mqdefault.jpg',\n",
      "                                                        'width': 320}},\n",
      "                            'title': 'Living On Frozen Foods For 24 Hours '\n",
      "                                     '*Never Again*'}},\n",
      "             { 'etag': 'C2JV7K9F-VIjHQ2QbbCtCfZfCdc',\n",
      "               'id': {'kind': 'youtube#video', 'videoId': 'wnwgM7s1w6Y'},\n",
      "               'kind': 'youtube#searchResult',\n",
      "               'snippet': { 'channelId': 'UCB2wtYpfbCpYDc5TeTwuqFA',\n",
      "                            'channelTitle': 'Will Tennyson',\n",
      "                            'description': 'The common saying is as long as '\n",
      "                                           'you eat in a calorie deficit you '\n",
      "                                           'will lose weight no matter what '\n",
      "                                           'you eat. While this is certainly '\n",
      "                                           'true ...',\n",
      "                            'liveBroadcastContent': 'none',\n",
      "                            'publishTime': '2021-11-28T15:00:24Z',\n",
      "                            'publishedAt': '2021-11-28T15:00:24Z',\n",
      "                            'thumbnails': { 'default': { 'height': 90,\n",
      "                                                         'url': 'https://i.ytimg.com/vi/wnwgM7s1w6Y/default.jpg',\n",
      "                                                         'width': 120},\n",
      "                                            'high': { 'height': 360,\n",
      "                                                      'url': 'https://i.ytimg.com/vi/wnwgM7s1w6Y/hqdefault.jpg',\n",
      "                                                      'width': 480},\n",
      "                                            'medium': { 'height': 180,\n",
      "                                                        'url': 'https://i.ytimg.com/vi/wnwgM7s1w6Y/mqdefault.jpg',\n",
      "                                                        'width': 320}},\n",
      "                            'title': 'Eat Twice As Much, Keep Calories The '\n",
      "                                     'Same (Healthy vs Unhealthy)'}},\n",
      "             { 'etag': 'iF63HLEmjDODOjWBRAeZr0Z1fZQ',\n",
      "               'id': {'kind': 'youtube#video', 'videoId': 'J39Dey02UV0'},\n",
      "               'kind': 'youtube#searchResult',\n",
      "               'snippet': { 'channelId': 'UCB2wtYpfbCpYDc5TeTwuqFA',\n",
      "                            'channelTitle': 'Will Tennyson',\n",
      "                            'description': 'Jesse, Noah and I decided to open '\n",
      "                                           'up a workout stand on Miami Beach '\n",
      "                                           'for the day! We set up a table '\n",
      "                                           'with dumbbells, medicine ...',\n",
      "                            'liveBroadcastContent': 'none',\n",
      "                            'publishTime': '2021-11-24T15:00:08Z',\n",
      "                            'publishedAt': '2021-11-24T15:00:08Z',\n",
      "                            'thumbnails': { 'default': { 'height': 90,\n",
      "                                                         'url': 'https://i.ytimg.com/vi/J39Dey02UV0/default.jpg',\n",
      "                                                         'width': 120},\n",
      "                                            'high': { 'height': 360,\n",
      "                                                      'url': 'https://i.ytimg.com/vi/J39Dey02UV0/hqdefault.jpg',\n",
      "                                                      'width': 480},\n",
      "                                            'medium': { 'height': 180,\n",
      "                                                        'url': 'https://i.ytimg.com/vi/J39Dey02UV0/mqdefault.jpg',\n",
      "                                                        'width': 320}},\n",
      "                            'title': 'PUBLIC STRENGTH COMPETITION (Beach '\n",
      "                                     'Workout Challenge)'}},\n",
      "             { 'etag': 'YAWS1gvSQubkHYhe_1glMWd3i7g',\n",
      "               'id': {'kind': 'youtube#video', 'videoId': 'HUgqOJ1_rXA'},\n",
      "               'kind': 'youtube#searchResult',\n",
      "               'snippet': { 'channelId': 'UCB2wtYpfbCpYDc5TeTwuqFA',\n",
      "                            'channelTitle': 'Will Tennyson',\n",
      "                            'description': 'Today Jesse James West and I go '\n",
      "                                           'head to head in a game of GYM '\n",
      "                                           'H.O.R.S.E! Much like the popular '\n",
      "                                           'basketball game, If you lose ...',\n",
      "                            'liveBroadcastContent': 'none',\n",
      "                            'publishTime': '2021-11-21T15:00:15Z',\n",
      "                            'publishedAt': '2021-11-21T15:00:15Z',\n",
      "                            'thumbnails': { 'default': { 'height': 90,\n",
      "                                                         'url': 'https://i.ytimg.com/vi/HUgqOJ1_rXA/default.jpg',\n",
      "                                                         'width': 120},\n",
      "                                            'high': { 'height': 360,\n",
      "                                                      'url': 'https://i.ytimg.com/vi/HUgqOJ1_rXA/hqdefault.jpg',\n",
      "                                                      'width': 480},\n",
      "                                            'medium': { 'height': 180,\n",
      "                                                        'url': 'https://i.ytimg.com/vi/HUgqOJ1_rXA/mqdefault.jpg',\n",
      "                                                        'width': 320}},\n",
      "                            'title': 'Bench Press Competition vs Jesse James '\n",
      "                                     'West'}},\n",
      "             { 'etag': 'OhdcEmWnsdnaE-2WF_6866ZVkMg',\n",
      "               'id': {'kind': 'youtube#video', 'videoId': 'pJwUxrf4p4E'},\n",
      "               'kind': 'youtube#searchResult',\n",
      "               'snippet': { 'channelId': 'UCB2wtYpfbCpYDc5TeTwuqFA',\n",
      "                            'channelTitle': 'Will Tennyson',\n",
      "                            'description': 'Day 2 in Miami! Chris Bumstead, '\n",
      "                                           'David Laid and I go through an '\n",
      "                                           'intense push day workout! '\n",
      "                                           'Afterwards we have a friendly push '\n",
      "                                           '...',\n",
      "                            'liveBroadcastContent': 'none',\n",
      "                            'publishTime': '2021-11-18T15:00:22Z',\n",
      "                            'publishedAt': '2021-11-18T15:00:22Z',\n",
      "                            'thumbnails': { 'default': { 'height': 90,\n",
      "                                                         'url': 'https://i.ytimg.com/vi/pJwUxrf4p4E/default.jpg',\n",
      "                                                         'width': 120},\n",
      "                                            'high': { 'height': 360,\n",
      "                                                      'url': 'https://i.ytimg.com/vi/pJwUxrf4p4E/hqdefault.jpg',\n",
      "                                                      'width': 480},\n",
      "                                            'medium': { 'height': 180,\n",
      "                                                        'url': 'https://i.ytimg.com/vi/pJwUxrf4p4E/mqdefault.jpg',\n",
      "                                                        'width': 320}},\n",
      "                            'title': 'Push Day W/ Chris Bumstead'}},\n",
      "             { 'etag': 'kmMjsfd5YcNziaO2rax1c6RpUqs',\n",
      "               'id': {'kind': 'youtube#video', 'videoId': 'uxLhR1-4ZyQ'},\n",
      "               'kind': 'youtube#searchResult',\n",
      "               'snippet': { 'channelId': 'UCB2wtYpfbCpYDc5TeTwuqFA',\n",
      "                            'channelTitle': 'Will Tennyson',\n",
      "                            'description': \"For the next few days I'm in Miami \"\n",
      "                                           'Florida with the Gymshark squad! '\n",
      "                                           \"In today's video we checked out a \"\n",
      "                                           'super cool crossfit gym ...',\n",
      "                            'liveBroadcastContent': 'none',\n",
      "                            'publishTime': '2021-11-14T15:00:35Z',\n",
      "                            'publishedAt': '2021-11-14T15:00:35Z',\n",
      "                            'thumbnails': { 'default': { 'height': 90,\n",
      "                                                         'url': 'https://i.ytimg.com/vi/uxLhR1-4ZyQ/default.jpg',\n",
      "                                                         'width': 120},\n",
      "                                            'high': { 'height': 360,\n",
      "                                                      'url': 'https://i.ytimg.com/vi/uxLhR1-4ZyQ/hqdefault.jpg',\n",
      "                                                      'width': 480},\n",
      "                                            'medium': { 'height': 180,\n",
      "                                                        'url': 'https://i.ytimg.com/vi/uxLhR1-4ZyQ/mqdefault.jpg',\n",
      "                                                        'width': 320}},\n",
      "                            'title': 'Strength Competition vs. 3x MR.OLYMPIA'}},\n",
      "             { 'etag': 'CcMhbqpRnVweNKERpD0s1VfjPEM',\n",
      "               'id': {'kind': 'youtube#video', 'videoId': 'xHjSHqjFH4Y'},\n",
      "               'kind': 'youtube#searchResult',\n",
      "               'snippet': { 'channelId': 'UCB2wtYpfbCpYDc5TeTwuqFA',\n",
      "                            'channelTitle': 'Will Tennyson',\n",
      "                            'description': 'A lot of people have been '\n",
      "                                           'requesting to see my girlfriend '\n",
      "                                           \"Katie's diet and training routine! \"\n",
      "                                           'Coming off a vegan diet she has '\n",
      "                                           'made ...',\n",
      "                            'liveBroadcastContent': 'none',\n",
      "                            'publishTime': '2021-11-11T15:00:37Z',\n",
      "                            'publishedAt': '2021-11-11T15:00:37Z',\n",
      "                            'thumbnails': { 'default': { 'height': 90,\n",
      "                                                         'url': 'https://i.ytimg.com/vi/xHjSHqjFH4Y/default.jpg',\n",
      "                                                         'width': 120},\n",
      "                                            'high': { 'height': 360,\n",
      "                                                      'url': 'https://i.ytimg.com/vi/xHjSHqjFH4Y/hqdefault.jpg',\n",
      "                                                      'width': 480},\n",
      "                                            'medium': { 'height': 180,\n",
      "                                                        'url': 'https://i.ytimg.com/vi/xHjSHqjFH4Y/mqdefault.jpg',\n",
      "                                                        'width': 320}},\n",
      "                            'title': 'Following My Girlfriends Diet &amp; '\n",
      "                                     'Training'}},\n",
      "             { 'etag': '3--rqDcWZIOs2lpbvCTgd_pDpTc',\n",
      "               'id': {'kind': 'youtube#video', 'videoId': '0aeWcSKY3FY'},\n",
      "               'kind': 'youtube#searchResult',\n",
      "               'snippet': { 'channelId': 'UCB2wtYpfbCpYDc5TeTwuqFA',\n",
      "                            'channelTitle': 'Will Tennyson',\n",
      "                            'description': \"In today's video I go through some \"\n",
      "                                           'of the top fitness and food trends '\n",
      "                                           \"throughout the 1970's! Hope you \"\n",
      "                                           'enjoy the video! Thank you ...',\n",
      "                            'liveBroadcastContent': 'none',\n",
      "                            'publishTime': '2021-11-07T15:00:00Z',\n",
      "                            'publishedAt': '2021-11-07T15:00:00Z',\n",
      "                            'thumbnails': { 'default': { 'height': 90,\n",
      "                                                         'url': 'https://i.ytimg.com/vi/0aeWcSKY3FY/default.jpg',\n",
      "                                                         'width': 120},\n",
      "                                            'high': { 'height': 360,\n",
      "                                                      'url': 'https://i.ytimg.com/vi/0aeWcSKY3FY/hqdefault.jpg',\n",
      "                                                      'width': 480},\n",
      "                                            'medium': { 'height': 180,\n",
      "                                                        'url': 'https://i.ytimg.com/vi/0aeWcSKY3FY/mqdefault.jpg',\n",
      "                                                        'width': 320}},\n",
      "                            'title': 'Bodybuilding In The 70’s (Then vs Now)'}},\n",
      "             { 'etag': 'UBVDzfEXFegHPQmVo95Dx9wOmHU',\n",
      "               'id': {'kind': 'youtube#video', 'videoId': 'nUB8kmqlB3w'},\n",
      "               'kind': 'youtube#searchResult',\n",
      "               'snippet': { 'channelId': 'UCB2wtYpfbCpYDc5TeTwuqFA',\n",
      "                            'channelTitle': 'Will Tennyson',\n",
      "                            'description': 'Here are my 4 FAVOURITE recipes '\n",
      "                                           'using protein powder! Super simple '\n",
      "                                           'and delicious. Hope you enjoy! '\n",
      "                                           'Thank you for watching!',\n",
      "                            'liveBroadcastContent': 'none',\n",
      "                            'publishTime': '2021-11-04T14:00:31Z',\n",
      "                            'publishedAt': '2021-11-04T14:00:31Z',\n",
      "                            'thumbnails': { 'default': { 'height': 90,\n",
      "                                                         'url': 'https://i.ytimg.com/vi/nUB8kmqlB3w/default.jpg',\n",
      "                                                         'width': 120},\n",
      "                                            'high': { 'height': 360,\n",
      "                                                      'url': 'https://i.ytimg.com/vi/nUB8kmqlB3w/hqdefault.jpg',\n",
      "                                                      'width': 480},\n",
      "                                            'medium': { 'height': 180,\n",
      "                                                        'url': 'https://i.ytimg.com/vi/nUB8kmqlB3w/mqdefault.jpg',\n",
      "                                                        'width': 320}},\n",
      "                            'title': 'How To Cook With Protein Powder (4 Easy '\n",
      "                                     'Recipes)'}},\n",
      "             { 'etag': 'WfIqMZ6F3N-m6B21o-ob_fKVfMU',\n",
      "               'id': {'kind': 'youtube#video', 'videoId': 'spXi35KnFU8'},\n",
      "               'kind': 'youtube#searchResult',\n",
      "               'snippet': { 'channelId': 'UCB2wtYpfbCpYDc5TeTwuqFA',\n",
      "                            'channelTitle': 'Will Tennyson',\n",
      "                            'description': 'Here are the 12 reasons why YOU '\n",
      "                                           \"don't look like you lift! In \"\n",
      "                                           \"today's video I break down my top \"\n",
      "                                           'reasons why you might be ...',\n",
      "                            'liveBroadcastContent': 'none',\n",
      "                            'publishTime': '2021-10-31T14:00:31Z',\n",
      "                            'publishedAt': '2021-10-31T14:00:31Z',\n",
      "                            'thumbnails': { 'default': { 'height': 90,\n",
      "                                                         'url': 'https://i.ytimg.com/vi/spXi35KnFU8/default.jpg',\n",
      "                                                         'width': 120},\n",
      "                                            'high': { 'height': 360,\n",
      "                                                      'url': 'https://i.ytimg.com/vi/spXi35KnFU8/hqdefault.jpg',\n",
      "                                                      'width': 480},\n",
      "                                            'medium': { 'height': 180,\n",
      "                                                        'url': 'https://i.ytimg.com/vi/spXi35KnFU8/mqdefault.jpg',\n",
      "                                                        'width': 320}},\n",
      "                            'title': '&quot;I LIFT BUT DON&#39;T LOOK LIKE '\n",
      "                                     'IT&quot; (The 12 Reasons Why)'}},\n",
      "             { 'etag': 'TOxTWBX1j-EHpPpbNI4wdBSW7Lc',\n",
      "               'id': {'kind': 'youtube#video', 'videoId': 'XmjOUa2pdDA'},\n",
      "               'kind': 'youtube#searchResult',\n",
      "               'snippet': { 'channelId': 'UCB2wtYpfbCpYDc5TeTwuqFA',\n",
      "                            'channelTitle': 'Will Tennyson',\n",
      "                            'description': \"I made my mom attempt The Rock's \"\n",
      "                                           'intense daily routine! the pre '\n",
      "                                           'workout meal consists of Dwayne '\n",
      "                                           \"Johnson's go-to pre workout ...\",\n",
      "                            'liveBroadcastContent': 'none',\n",
      "                            'publishTime': '2021-10-28T14:00:28Z',\n",
      "                            'publishedAt': '2021-10-28T14:00:28Z',\n",
      "                            'thumbnails': { 'default': { 'height': 90,\n",
      "                                                         'url': 'https://i.ytimg.com/vi/XmjOUa2pdDA/default.jpg',\n",
      "                                                         'width': 120},\n",
      "                                            'high': { 'height': 360,\n",
      "                                                      'url': 'https://i.ytimg.com/vi/XmjOUa2pdDA/hqdefault.jpg',\n",
      "                                                      'width': 480},\n",
      "                                            'medium': { 'height': 180,\n",
      "                                                        'url': 'https://i.ytimg.com/vi/XmjOUa2pdDA/mqdefault.jpg',\n",
      "                                                        'width': 320}},\n",
      "                            'title': 'Eating &amp; Training Like The Rock For '\n",
      "                                     '24 Hours'}},\n",
      "             { 'etag': 'v3ltwpn3VJHusOnFw_1CI6tcS5w',\n",
      "               'id': {'kind': 'youtube#video', 'videoId': 'BbD1znMSG0o'},\n",
      "               'kind': 'youtube#searchResult',\n",
      "               'snippet': { 'channelId': 'UCB2wtYpfbCpYDc5TeTwuqFA',\n",
      "                            'channelTitle': 'Will Tennyson',\n",
      "                            'description': 'Greg and I go back and forth and '\n",
      "                                           \"ask questions YOU guys don't think \"\n",
      "                                           'we want to answer! In this truth '\n",
      "                                           'or drink challenge you can ...',\n",
      "                            'liveBroadcastContent': 'none',\n",
      "                            'publishTime': '2021-10-24T14:00:04Z',\n",
      "                            'publishedAt': '2021-10-24T14:00:04Z',\n",
      "                            'thumbnails': { 'default': { 'height': 90,\n",
      "                                                         'url': 'https://i.ytimg.com/vi/BbD1znMSG0o/default.jpg',\n",
      "                                                         'width': 120},\n",
      "                                            'high': { 'height': 360,\n",
      "                                                      'url': 'https://i.ytimg.com/vi/BbD1znMSG0o/hqdefault.jpg',\n",
      "                                                      'width': 480},\n",
      "                                            'medium': { 'height': 180,\n",
      "                                                        'url': 'https://i.ytimg.com/vi/BbD1znMSG0o/mqdefault.jpg',\n",
      "                                                        'width': 320}},\n",
      "                            'title': 'TRUTH OR DRINK ft. Greg Doucette'}},\n",
      "             { 'etag': 'gpl9VTQ_uIMVlNSbDerpczzh5tg',\n",
      "               'id': {'kind': 'youtube#video', 'videoId': 'yedrbpPsR0c'},\n",
      "               'kind': 'youtube#searchResult',\n",
      "               'snippet': { 'channelId': 'UCB2wtYpfbCpYDc5TeTwuqFA',\n",
      "                            'channelTitle': 'Will Tennyson',\n",
      "                            'description': 'Pranking Greg Doucette with some '\n",
      "                                           \"FAKE WEIGHTS! In today's video \"\n",
      "                                           'Greg comes down to Toronto to '\n",
      "                                           'visit. We have a day filled ...',\n",
      "                            'liveBroadcastContent': 'none',\n",
      "                            'publishTime': '2021-10-21T14:00:24Z',\n",
      "                            'publishedAt': '2021-10-21T14:00:24Z',\n",
      "                            'thumbnails': { 'default': { 'height': 90,\n",
      "                                                         'url': 'https://i.ytimg.com/vi/yedrbpPsR0c/default.jpg',\n",
      "                                                         'width': 120},\n",
      "                                            'high': { 'height': 360,\n",
      "                                                      'url': 'https://i.ytimg.com/vi/yedrbpPsR0c/hqdefault.jpg',\n",
      "                                                      'width': 480},\n",
      "                                            'medium': { 'height': 180,\n",
      "                                                        'url': 'https://i.ytimg.com/vi/yedrbpPsR0c/mqdefault.jpg',\n",
      "                                                        'width': 320}},\n",
      "                            'title': 'Fake Weights Prank On Greg Doucette'}},\n",
      "             { 'etag': '1yCHRS1SoehmAuzEkFJMaCqnWdY',\n",
      "               'id': {'kind': 'youtube#video', 'videoId': 'uEbFUTCUQH8'},\n",
      "               'kind': 'youtube#searchResult',\n",
      "               'snippet': { 'channelId': 'UCB2wtYpfbCpYDc5TeTwuqFA',\n",
      "                            'channelTitle': 'Will Tennyson',\n",
      "                            'description': \"In today's video I attempt the \"\n",
      "                                           '\"Eat A WHOLE Pizza Workout '\n",
      "                                           'Challenge\" that I found on the '\n",
      "                                           'internet! The workout claims to '\n",
      "                                           'burn the ...',\n",
      "                            'liveBroadcastContent': 'none',\n",
      "                            'publishTime': '2021-10-17T14:00:16Z',\n",
      "                            'publishedAt': '2021-10-17T14:00:16Z',\n",
      "                            'thumbnails': { 'default': { 'height': 90,\n",
      "                                                         'url': 'https://i.ytimg.com/vi/uEbFUTCUQH8/default.jpg',\n",
      "                                                         'width': 120},\n",
      "                                            'high': { 'height': 360,\n",
      "                                                      'url': 'https://i.ytimg.com/vi/uEbFUTCUQH8/hqdefault.jpg',\n",
      "                                                      'width': 480},\n",
      "                                            'medium': { 'height': 180,\n",
      "                                                        'url': 'https://i.ytimg.com/vi/uEbFUTCUQH8/mqdefault.jpg',\n",
      "                                                        'width': 320}},\n",
      "                            'title': 'If You Want Pizza, Do This Workout'}},\n",
      "             { 'etag': 'e7_I7SMO0OkrKN3CbSLVj2DNuTY',\n",
      "               'id': {'kind': 'youtube#video', 'videoId': 'L2LP6U2BAeg'},\n",
      "               'kind': 'youtube#searchResult',\n",
      "               'snippet': { 'channelId': 'UCB2wtYpfbCpYDc5TeTwuqFA',\n",
      "                            'channelTitle': 'Will Tennyson',\n",
      "                            'description': \"Today's video is a day in the life \"\n",
      "                                           'vlog! I take you through my '\n",
      "                                           'morning routine, show you one of '\n",
      "                                           'my favourite protein pancake ...',\n",
      "                            'liveBroadcastContent': 'none',\n",
      "                            'publishTime': '2021-10-14T14:00:06Z',\n",
      "                            'publishedAt': '2021-10-14T14:00:06Z',\n",
      "                            'thumbnails': { 'default': { 'height': 90,\n",
      "                                                         'url': 'https://i.ytimg.com/vi/L2LP6U2BAeg/default.jpg',\n",
      "                                                         'width': 120},\n",
      "                                            'high': { 'height': 360,\n",
      "                                                      'url': 'https://i.ytimg.com/vi/L2LP6U2BAeg/hqdefault.jpg',\n",
      "                                                      'width': 480},\n",
      "                                            'medium': { 'height': 180,\n",
      "                                                        'url': 'https://i.ytimg.com/vi/L2LP6U2BAeg/mqdefault.jpg',\n",
      "                                                        'width': 320}},\n",
      "                            'title': 'My BIGGEST Physique Ever! (Daily Routine '\n",
      "                                     '&amp; Diet)'}},\n",
      "             { 'etag': 'D_67nhT67hhTfv518ZNQtQEz2kE',\n",
      "               'id': {'kind': 'youtube#video', 'videoId': 'yGGDda1rm90'},\n",
      "               'kind': 'youtube#searchResult',\n",
      "               'snippet': { 'channelId': 'UCB2wtYpfbCpYDc5TeTwuqFA',\n",
      "                            'channelTitle': 'Will Tennyson',\n",
      "                            'description': 'We all have the food that we LOVE! '\n",
      "                                           \"In today's video I try some of the \"\n",
      "                                           'biggest celebrities on the '\n",
      "                                           \"planet's favourite cheat meals.\",\n",
      "                            'liveBroadcastContent': 'none',\n",
      "                            'publishTime': '2021-10-10T14:00:32Z',\n",
      "                            'publishedAt': '2021-10-10T14:00:32Z',\n",
      "                            'thumbnails': { 'default': { 'height': 90,\n",
      "                                                         'url': 'https://i.ytimg.com/vi/yGGDda1rm90/default.jpg',\n",
      "                                                         'width': 120},\n",
      "                                            'high': { 'height': 360,\n",
      "                                                      'url': 'https://i.ytimg.com/vi/yGGDda1rm90/hqdefault.jpg',\n",
      "                                                      'width': 480},\n",
      "                                            'medium': { 'height': 180,\n",
      "                                                        'url': 'https://i.ytimg.com/vi/yGGDda1rm90/mqdefault.jpg',\n",
      "                                                        'width': 320}},\n",
      "                            'title': 'Crazy Celebrity Food Creations (Found On '\n",
      "                                     'Tik Tok)'}},\n",
      "             { 'etag': 'ryci-itxx6BwoMXKfS6EzjGk4sI',\n",
      "               'id': {'kind': 'youtube#video', 'videoId': 'BZ40ytmHZVk'},\n",
      "               'kind': 'youtube#searchResult',\n",
      "               'snippet': { 'channelId': 'UCB2wtYpfbCpYDc5TeTwuqFA',\n",
      "                            'channelTitle': 'Will Tennyson',\n",
      "                            'description': 'I take my girlfriend out on a date '\n",
      "                                           'that my subscribers decide, and '\n",
      "                                           \"here's what happened! I ask you \"\n",
      "                                           'all throughout the day on ...',\n",
      "                            'liveBroadcastContent': 'none',\n",
      "                            'publishTime': '2021-10-07T14:00:03Z',\n",
      "                            'publishedAt': '2021-10-07T14:00:03Z',\n",
      "                            'thumbnails': { 'default': { 'height': 90,\n",
      "                                                         'url': 'https://i.ytimg.com/vi/BZ40ytmHZVk/default.jpg',\n",
      "                                                         'width': 120},\n",
      "                                            'high': { 'height': 360,\n",
      "                                                      'url': 'https://i.ytimg.com/vi/BZ40ytmHZVk/hqdefault.jpg',\n",
      "                                                      'width': 480},\n",
      "                                            'medium': { 'height': 180,\n",
      "                                                        'url': 'https://i.ytimg.com/vi/BZ40ytmHZVk/mqdefault.jpg',\n",
      "                                                        'width': 320}},\n",
      "                            'title': 'Instagram Controlled Our Date Night...'}},\n",
      "             { 'etag': 'vYxzMV7PbRLZ2hxX6T1-46u5Mfg',\n",
      "               'id': {'kind': 'youtube#video', 'videoId': 'tUrK8njnfTM'},\n",
      "               'kind': 'youtube#searchResult',\n",
      "               'snippet': { 'channelId': 'UCB2wtYpfbCpYDc5TeTwuqFA',\n",
      "                            'channelTitle': 'Will Tennyson',\n",
      "                            'description': 'Being a huge coffee drinker, I '\n",
      "                                           'wanted to honour my favourite bean '\n",
      "                                           'by incorporating coffee into '\n",
      "                                           'EVERYTHING I eat for National ...',\n",
      "                            'liveBroadcastContent': 'none',\n",
      "                            'publishTime': '2021-10-03T14:00:17Z',\n",
      "                            'publishedAt': '2021-10-03T14:00:17Z',\n",
      "                            'thumbnails': { 'default': { 'height': 90,\n",
      "                                                         'url': 'https://i.ytimg.com/vi/tUrK8njnfTM/default.jpg',\n",
      "                                                         'width': 120},\n",
      "                                            'high': { 'height': 360,\n",
      "                                                      'url': 'https://i.ytimg.com/vi/tUrK8njnfTM/hqdefault.jpg',\n",
      "                                                      'width': 480},\n",
      "                                            'medium': { 'height': 180,\n",
      "                                                        'url': 'https://i.ytimg.com/vi/tUrK8njnfTM/mqdefault.jpg',\n",
      "                                                        'width': 320}},\n",
      "                            'title': 'Adding Coffee To Everything I Eat For 24 '\n",
      "                                     'Hours'}},\n",
      "             { 'etag': 'OcwBjIi6VC-s1EmkzJSsmCSfcec',\n",
      "               'id': {'kind': 'youtube#video', 'videoId': '3XHQ_3JXDFQ'},\n",
      "               'kind': 'youtube#searchResult',\n",
      "               'snippet': { 'channelId': 'UCB2wtYpfbCpYDc5TeTwuqFA',\n",
      "                            'channelTitle': 'Will Tennyson',\n",
      "                            'description': 'A BIG Weekend in Texas for me and '\n",
      "                                           'I wanted to bring you along the '\n",
      "                                           'trip with me to share with you a '\n",
      "                                           'huge announcement! In this ...',\n",
      "                            'liveBroadcastContent': 'none',\n",
      "                            'publishTime': '2021-10-01T14:00:01Z',\n",
      "                            'publishedAt': '2021-10-01T14:00:01Z',\n",
      "                            'thumbnails': { 'default': { 'height': 90,\n",
      "                                                         'url': 'https://i.ytimg.com/vi/3XHQ_3JXDFQ/default.jpg',\n",
      "                                                         'width': 120},\n",
      "                                            'high': { 'height': 360,\n",
      "                                                      'url': 'https://i.ytimg.com/vi/3XHQ_3JXDFQ/hqdefault.jpg',\n",
      "                                                      'width': 480},\n",
      "                                            'medium': { 'height': 180,\n",
      "                                                        'url': 'https://i.ytimg.com/vi/3XHQ_3JXDFQ/mqdefault.jpg',\n",
      "                                                        'width': 320}},\n",
      "                            'title': 'I Think I&#39;m Moving To Texas After '\n",
      "                                     'This...'}},\n",
      "             { 'etag': '8HUZeFZRYH3071na-6VPNdkTUPM',\n",
      "               'id': {'kind': 'youtube#video', 'videoId': '2-5iCusDCtw'},\n",
      "               'kind': 'youtube#searchResult',\n",
      "               'snippet': { 'channelId': 'UCB2wtYpfbCpYDc5TeTwuqFA',\n",
      "                            'channelTitle': 'Will Tennyson',\n",
      "                            'description': 'We do everything we can in the gym '\n",
      "                                           'and our diet is on point and we '\n",
      "                                           \"still can't LOSE WEIGHT??! In \"\n",
      "                                           \"today's video I go over ...\",\n",
      "                            'liveBroadcastContent': 'none',\n",
      "                            'publishTime': '2021-09-26T14:00:00Z',\n",
      "                            'publishedAt': '2021-09-26T14:00:00Z',\n",
      "                            'thumbnails': { 'default': { 'height': 90,\n",
      "                                                         'url': 'https://i.ytimg.com/vi/2-5iCusDCtw/default.jpg',\n",
      "                                                         'width': 120},\n",
      "                                            'high': { 'height': 360,\n",
      "                                                      'url': 'https://i.ytimg.com/vi/2-5iCusDCtw/hqdefault.jpg',\n",
      "                                                      'width': 480},\n",
      "                                            'medium': { 'height': 180,\n",
      "                                                        'url': 'https://i.ytimg.com/vi/2-5iCusDCtw/mqdefault.jpg',\n",
      "                                                        'width': 320}},\n",
      "                            'title': 'Why You’re Not Losing Fat (HIDDEN '\n",
      "                                     'Mistakes You Don’t Realize You’re '\n",
      "                                     'Making)'}},\n",
      "             { 'etag': 'd0a-ovw5Cl5_F8d5DThKLbFU6Zw',\n",
      "               'id': {'kind': 'youtube#video', 'videoId': '1k7PlHKh6hQ'},\n",
      "               'kind': 'youtube#searchResult',\n",
      "               'snippet': { 'channelId': 'UCB2wtYpfbCpYDc5TeTwuqFA',\n",
      "                            'channelTitle': 'Will Tennyson',\n",
      "                            'description': 'I wanted to take my poor aim to '\n",
      "                                           'the ultimate test and let a DART '\n",
      "                                           'BOARD control my day for the next '\n",
      "                                           '24 hours... for everything I ...',\n",
      "                            'liveBroadcastContent': 'none',\n",
      "                            'publishTime': '2021-09-23T15:00:01Z',\n",
      "                            'publishedAt': '2021-09-23T15:00:01Z',\n",
      "                            'thumbnails': { 'default': { 'height': 90,\n",
      "                                                         'url': 'https://i.ytimg.com/vi/1k7PlHKh6hQ/default.jpg',\n",
      "                                                         'width': 120},\n",
      "                                            'high': { 'height': 360,\n",
      "                                                      'url': 'https://i.ytimg.com/vi/1k7PlHKh6hQ/hqdefault.jpg',\n",
      "                                                      'width': 480},\n",
      "                                            'medium': { 'height': 180,\n",
      "                                                        'url': 'https://i.ytimg.com/vi/1k7PlHKh6hQ/mqdefault.jpg',\n",
      "                                                        'width': 320}},\n",
      "                            'title': 'LETTING A MAP DECIDE MY CHEAT DAY'}},\n",
      "             { 'etag': 'xINX1PTjpxYCGbhc7bV3WpfOxKo',\n",
      "               'id': {'kind': 'youtube#video', 'videoId': 'ju_D6w6VNLU'},\n",
      "               'kind': 'youtube#searchResult',\n",
      "               'snippet': { 'channelId': 'UCB2wtYpfbCpYDc5TeTwuqFA',\n",
      "                            'channelTitle': 'Will Tennyson',\n",
      "                            'description': 'I go through some of the most '\n",
      "                                           'EXTREME weight loss diets over the '\n",
      "                                           'past century! Some of these diets '\n",
      "                                           'claim that you can lose over ...',\n",
      "                            'liveBroadcastContent': 'none',\n",
      "                            'publishTime': '2021-09-19T14:00:17Z',\n",
      "                            'publishedAt': '2021-09-19T14:00:17Z',\n",
      "                            'thumbnails': { 'default': { 'height': 90,\n",
      "                                                         'url': 'https://i.ytimg.com/vi/ju_D6w6VNLU/default.jpg',\n",
      "                                                         'width': 120},\n",
      "                                            'high': { 'height': 360,\n",
      "                                                      'url': 'https://i.ytimg.com/vi/ju_D6w6VNLU/hqdefault.jpg',\n",
      "                                                      'width': 480},\n",
      "                                            'medium': { 'height': 180,\n",
      "                                                        'url': 'https://i.ytimg.com/vi/ju_D6w6VNLU/mqdefault.jpg',\n",
      "                                                        'width': 320}},\n",
      "                            'title': 'I Tried CRAZY Weight Loss Fad Diets '\n",
      "                                     '(Don&#39;t Try This)'}},\n",
      "             { 'etag': 'MJUHa5IZy9eG-r0meISyhG9hHHg',\n",
      "               'id': {'kind': 'youtube#video', 'videoId': 'V9CtXVv10oQ'},\n",
      "               'kind': 'youtube#searchResult',\n",
      "               'snippet': { 'channelId': 'UCB2wtYpfbCpYDc5TeTwuqFA',\n",
      "                            'channelTitle': 'Will Tennyson',\n",
      "                            'description': 'I paid $100 for Jeff Nippards Push '\n",
      "                                           'Pull Legs routine as well as his '\n",
      "                                           'Body Recomposition Guide! In '\n",
      "                                           \"today's video I go through the ...\",\n",
      "                            'liveBroadcastContent': 'none',\n",
      "                            'publishTime': '2021-09-16T14:00:13Z',\n",
      "                            'publishedAt': '2021-09-16T14:00:13Z',\n",
      "                            'thumbnails': { 'default': { 'height': 90,\n",
      "                                                         'url': 'https://i.ytimg.com/vi/V9CtXVv10oQ/default.jpg',\n",
      "                                                         'width': 120},\n",
      "                                            'high': { 'height': 360,\n",
      "                                                      'url': 'https://i.ytimg.com/vi/V9CtXVv10oQ/hqdefault.jpg',\n",
      "                                                      'width': 480},\n",
      "                                            'medium': { 'height': 180,\n",
      "                                                        'url': 'https://i.ytimg.com/vi/V9CtXVv10oQ/mqdefault.jpg',\n",
      "                                                        'width': 320}},\n",
      "                            'title': 'I Paid $100 For A Jeff Nippard Program '\n",
      "                                     '(Worth it?)'}},\n",
      "             { 'etag': 'FKajfNDZ3zNQnOXY20BYSClUUpc',\n",
      "               'id': {'kind': 'youtube#video', 'videoId': '-JrCEPUMxjM'},\n",
      "               'kind': 'youtube#searchResult',\n",
      "               'snippet': { 'channelId': 'UCB2wtYpfbCpYDc5TeTwuqFA',\n",
      "                            'channelTitle': 'Will Tennyson',\n",
      "                            'description': 'In this video I put into '\n",
      "                                           'perspective just how HARD it is to '\n",
      "                                           'burn calories and how EASY it is '\n",
      "                                           'to eat them.. For this 24 hour '\n",
      "                                           'food/fitness ...',\n",
      "                            'liveBroadcastContent': 'none',\n",
      "                            'publishTime': '2021-09-12T14:00:00Z',\n",
      "                            'publishedAt': '2021-09-12T14:00:00Z',\n",
      "                            'thumbnails': { 'default': { 'height': 90,\n",
      "                                                         'url': 'https://i.ytimg.com/vi/-JrCEPUMxjM/default.jpg',\n",
      "                                                         'width': 120},\n",
      "                                            'high': { 'height': 360,\n",
      "                                                      'url': 'https://i.ytimg.com/vi/-JrCEPUMxjM/hqdefault.jpg',\n",
      "                                                      'width': 480},\n",
      "                                            'medium': { 'height': 180,\n",
      "                                                        'url': 'https://i.ytimg.com/vi/-JrCEPUMxjM/mqdefault.jpg',\n",
      "                                                        'width': 320}},\n",
      "                            'title': 'CAN YOU UNDO A &quot;BAD&quot; DIET? '\n",
      "                                     'Calorie Burn Challenge!'}},\n",
      "             { 'etag': 'eXRNmaKoVnIZNyJBFoKsvoDkZ3Q',\n",
      "               'id': {'kind': 'youtube#video', 'videoId': 'gi8FE5Ofe4E'},\n",
      "               'kind': 'youtube#searchResult',\n",
      "               'snippet': { 'channelId': 'UCB2wtYpfbCpYDc5TeTwuqFA',\n",
      "                            'channelTitle': 'Will Tennyson',\n",
      "                            'description': 'My subscribers sent me their '\n",
      "                                           'ultimate food cravings over '\n",
      "                                           'Instagram and I try to recreate '\n",
      "                                           'them all the healthy way! '\n",
      "                                           'Throughout this ...',\n",
      "                            'liveBroadcastContent': 'none',\n",
      "                            'publishTime': '2021-09-09T14:00:15Z',\n",
      "                            'publishedAt': '2021-09-09T14:00:15Z',\n",
      "                            'thumbnails': { 'default': { 'height': 90,\n",
      "                                                         'url': 'https://i.ytimg.com/vi/gi8FE5Ofe4E/default.jpg',\n",
      "                                                         'width': 120},\n",
      "                                            'high': { 'height': 360,\n",
      "                                                      'url': 'https://i.ytimg.com/vi/gi8FE5Ofe4E/hqdefault.jpg',\n",
      "                                                      'width': 480},\n",
      "                                            'medium': { 'height': 180,\n",
      "                                                        'url': 'https://i.ytimg.com/vi/gi8FE5Ofe4E/mqdefault.jpg',\n",
      "                                                        'width': 320}},\n",
      "                            'title': 'MAKING LOW CALORIE CHEAT MEALS | FOOD '\n",
      "                                     'HACKS'}},\n",
      "             { 'etag': 'uc6x0pUoxyz8TAyKCAkbRa_CpoY',\n",
      "               'id': {'kind': 'youtube#video', 'videoId': 'S-iR6ESuE1Y'},\n",
      "               'kind': 'youtube#searchResult',\n",
      "               'snippet': { 'channelId': 'UCB2wtYpfbCpYDc5TeTwuqFA',\n",
      "                            'channelTitle': 'Will Tennyson',\n",
      "                            'description': 'I take my girlfriend on the '\n",
      "                                           'ultimate gym date! Being a couple '\n",
      "                                           \"that's into fitness, I thought it \"\n",
      "                                           'would be a fun idea to turn our '\n",
      "                                           'regular ...',\n",
      "                            'liveBroadcastContent': 'none',\n",
      "                            'publishTime': '2021-09-05T14:00:11Z',\n",
      "                            'publishedAt': '2021-09-05T14:00:11Z',\n",
      "                            'thumbnails': { 'default': { 'height': 90,\n",
      "                                                         'url': 'https://i.ytimg.com/vi/S-iR6ESuE1Y/default.jpg',\n",
      "                                                         'width': 120},\n",
      "                                            'high': { 'height': 360,\n",
      "                                                      'url': 'https://i.ytimg.com/vi/S-iR6ESuE1Y/hqdefault.jpg',\n",
      "                                                      'width': 480},\n",
      "                                            'medium': { 'height': 180,\n",
      "                                                        'url': 'https://i.ytimg.com/vi/S-iR6ESuE1Y/mqdefault.jpg',\n",
      "                                                        'width': 320}},\n",
      "                            'title': 'Asking My Gym Crush On The Ultimate '\n",
      "                                     'Date'}},\n",
      "             { 'etag': 'm1kZ25ErLjFdq9LvG5KAWFcjGP0',\n",
      "               'id': {'kind': 'youtube#video', 'videoId': 'V5BsR7ZYVso'},\n",
      "               'kind': 'youtube#searchResult',\n",
      "               'snippet': { 'channelId': 'UCB2wtYpfbCpYDc5TeTwuqFA',\n",
      "                            'channelTitle': 'Will Tennyson',\n",
      "                            'description': 'I downloaded TikTok to try out the '\n",
      "                                           'viral trends that have been '\n",
      "                                           'circling the globe to see if '\n",
      "                                           \"they're worth the hype! Throughout \"\n",
      "                                           'the ...',\n",
      "                            'liveBroadcastContent': 'none',\n",
      "                            'publishTime': '2021-09-02T14:00:14Z',\n",
      "                            'publishedAt': '2021-09-02T14:00:14Z',\n",
      "                            'thumbnails': { 'default': { 'height': 90,\n",
      "                                                         'url': 'https://i.ytimg.com/vi/V5BsR7ZYVso/default.jpg',\n",
      "                                                         'width': 120},\n",
      "                                            'high': { 'height': 360,\n",
      "                                                      'url': 'https://i.ytimg.com/vi/V5BsR7ZYVso/hqdefault.jpg',\n",
      "                                                      'width': 480},\n",
      "                                            'medium': { 'height': 180,\n",
      "                                                        'url': 'https://i.ytimg.com/vi/V5BsR7ZYVso/mqdefault.jpg',\n",
      "                                                        'width': 320}},\n",
      "                            'title': 'Trying Tik Tok Food Hacks to see if they '\n",
      "                                     'work'}},\n",
      "             { 'etag': 'fFJcWQw8bjUt2seLUUqOeYlz_AU',\n",
      "               'id': {'kind': 'youtube#video', 'videoId': 'kX6-qAerBEc'},\n",
      "               'kind': 'youtube#searchResult',\n",
      "               'snippet': { 'channelId': 'UCB2wtYpfbCpYDc5TeTwuqFA',\n",
      "                            'channelTitle': 'Will Tennyson',\n",
      "                            'description': 'In honour of my birthday I wanted '\n",
      "                                           'to face all my biggest fears head '\n",
      "                                           'on! My girlfriend and my sister '\n",
      "                                           'planned an entire fear factor day '\n",
      "                                           '...',\n",
      "                            'liveBroadcastContent': 'none',\n",
      "                            'publishTime': '2021-08-29T14:00:15Z',\n",
      "                            'publishedAt': '2021-08-29T14:00:15Z',\n",
      "                            'thumbnails': { 'default': { 'height': 90,\n",
      "                                                         'url': 'https://i.ytimg.com/vi/kX6-qAerBEc/default.jpg',\n",
      "                                                         'width': 120},\n",
      "                                            'high': { 'height': 360,\n",
      "                                                      'url': 'https://i.ytimg.com/vi/kX6-qAerBEc/hqdefault.jpg',\n",
      "                                                      'width': 480},\n",
      "                                            'medium': { 'height': 180,\n",
      "                                                        'url': 'https://i.ytimg.com/vi/kX6-qAerBEc/mqdefault.jpg',\n",
      "                                                        'width': 320}},\n",
      "                            'title': 'My Girlfriend and My Sister Torture Me '\n",
      "                                     'For My Birthday'}}],\n",
      "  'kind': 'youtube#searchListResponse',\n",
      "  'nextPageToken': 'CDIQAA',\n",
      "  'pageInfo': {'resultsPerPage': 50, 'totalResults': 259},\n",
      "  'regionCode': 'US'}\n"
     ]
    }
   ],
   "source": [
    "pp.pprint(response)"
   ]
  },
  {
   "cell_type": "code",
   "execution_count": 5,
   "id": "cf0e69f7",
   "metadata": {},
   "outputs": [
    {
     "data": {
      "text/plain": [
       "'7T_7e4KKBSw'"
      ]
     },
     "execution_count": 5,
     "metadata": {},
     "output_type": "execute_result"
    }
   ],
   "source": [
    "video_id = response['items'][0]['id']['videoId']\n",
    "video_id"
   ]
  },
  {
   "cell_type": "code",
   "execution_count": 6,
   "id": "19480401",
   "metadata": {},
   "outputs": [
    {
     "data": {
      "text/plain": [
       "'How The Fitness Industry Is Scamming YOU!'"
      ]
     },
     "execution_count": 6,
     "metadata": {},
     "output_type": "execute_result"
    }
   ],
   "source": [
    "video_title = response['items'][0]['snippet']['title']\n",
    "video_title = str(video_title).replace('&amp;', '')\n",
    "video_title = str(video_title).replace('&quot;', '')\n",
    "video_title = str(video_title).replace('&#39;', \"'\")\n",
    "video_title"
   ]
  },
  {
   "cell_type": "code",
   "execution_count": 7,
   "id": "24b7b93a",
   "metadata": {},
   "outputs": [
    {
     "data": {
      "text/plain": [
       "'2022-02-24'"
      ]
     },
     "execution_count": 7,
     "metadata": {},
     "output_type": "execute_result"
    }
   ],
   "source": [
    "# Grab the upload date\n",
    "upload_date = response['items'][0]['snippet']['publishedAt']\n",
    "upload_date = str(upload_date).split('T')[0] # remove the timestamp and timezone\n",
    "upload_date"
   ]
  },
  {
   "cell_type": "code",
   "execution_count": 8,
   "id": "bcf3401d",
   "metadata": {},
   "outputs": [],
   "source": [
    "def get_video_details(video_id):\n",
    "       # collecting view, like and comment counts with a second API call\n",
    "        url_video_stats = 'https://www.googleapis.com/youtube/v3/videos?id='+video_id+'&part=statistics&key='+API_KEY\n",
    "        response_video_stats = requests.get(url_video_stats).json()\n",
    "        view_count = response_video_stats['items'][0]['statistics']['viewCount']\n",
    "        like_count = response_video_stats['items'][0]['statistics']['likeCount']\n",
    "        comment_count = response_video_stats['items'][0]['statistics']['commentCount']\n",
    "        \n",
    "        return view_count, like_count, comment_count"
   ]
  },
  {
   "cell_type": "code",
   "execution_count": 9,
   "id": "86a87f71",
   "metadata": {},
   "outputs": [],
   "source": [
    "def get_videos(df):\n",
    "    pageToken = \"\"\n",
    "    while 1:\n",
    "        url = \"https://www.googleapis.com/youtube/v3/search?key=\"+API_KEY+\"&channelId=\"+CHANNEL_ID+\"&part=snippet,id&order=date&maxResults=10000&\"+pageToken\n",
    "\n",
    "        response = requests.get(url).json()\n",
    "        time.sleep(1) #give it a second before starting the for loop\n",
    "        for video in response['items']:\n",
    "            if video['id']['kind'] == \"youtube#video\":\n",
    "                video_id = video['id']['videoId']\n",
    "                video_title = video['snippet']['title']\n",
    "                video_title = str(video_title).replace(\"&amp;\",\"\")\n",
    "                video_title = str(video_title).replace(\"&#39;\",\"\")\n",
    "                upload_date = video['snippet']['publishedAt']\n",
    "                upload_date = str(upload_date).split(\"T\")[0]\n",
    "                view_count, like_count, comment_count = get_video_details(video_id)\n",
    "\n",
    "                df = df.append({'video_id':video_id,'video_title':video_title,\n",
    "                                \"upload_date\":upload_date,\"view_count\":view_count,\n",
    "                                \"like_count\":like_count,\n",
    "                                \"comment_count\":comment_count},ignore_index=True)\n",
    "        try:\n",
    "            if response['nextPageToken'] != None: #if none, it means it reached the last page and break out of it\n",
    "                pageToken = \"pageToken=\" + response['nextPageToken']\n",
    "\n",
    "        except:\n",
    "            break\n",
    "\n",
    "\n",
    "    return df"
   ]
  },
  {
   "cell_type": "code",
   "execution_count": 10,
   "id": "3af5ef0f",
   "metadata": {},
   "outputs": [
    {
     "data": {
      "text/html": [
       "<div>\n",
       "<style scoped>\n",
       "    .dataframe tbody tr th:only-of-type {\n",
       "        vertical-align: middle;\n",
       "    }\n",
       "\n",
       "    .dataframe tbody tr th {\n",
       "        vertical-align: top;\n",
       "    }\n",
       "\n",
       "    .dataframe thead th {\n",
       "        text-align: right;\n",
       "    }\n",
       "</style>\n",
       "<table border=\"1\" class=\"dataframe\">\n",
       "  <thead>\n",
       "    <tr style=\"text-align: right;\">\n",
       "      <th></th>\n",
       "      <th>video_id</th>\n",
       "      <th>video_title</th>\n",
       "      <th>upload_date</th>\n",
       "      <th>view_count</th>\n",
       "      <th>like_count</th>\n",
       "      <th>comment_count</th>\n",
       "    </tr>\n",
       "  </thead>\n",
       "  <tbody>\n",
       "    <tr>\n",
       "      <th>0</th>\n",
       "      <td>7T_7e4KKBSw</td>\n",
       "      <td>How The Fitness Industry Is Scamming YOU!</td>\n",
       "      <td>2022-02-24</td>\n",
       "      <td>134741</td>\n",
       "      <td>10016</td>\n",
       "      <td>779</td>\n",
       "    </tr>\n",
       "    <tr>\n",
       "      <th>1</th>\n",
       "      <td>8ea_8bGLjJc</td>\n",
       "      <td>I Tried The Worlds Strictest Diet (According T...</td>\n",
       "      <td>2022-02-20</td>\n",
       "      <td>275959</td>\n",
       "      <td>14089</td>\n",
       "      <td>1241</td>\n",
       "    </tr>\n",
       "    <tr>\n",
       "      <th>2</th>\n",
       "      <td>3ayRRjn-NMc</td>\n",
       "      <td>Confessions Of A Fake Natty</td>\n",
       "      <td>2022-02-17</td>\n",
       "      <td>308621</td>\n",
       "      <td>18798</td>\n",
       "      <td>1227</td>\n",
       "    </tr>\n",
       "    <tr>\n",
       "      <th>3</th>\n",
       "      <td>iwh1CG49TXA</td>\n",
       "      <td>I Went On A 7 Day CRASH Diet! (10lbs in 1 Week!?)</td>\n",
       "      <td>2022-02-10</td>\n",
       "      <td>414143</td>\n",
       "      <td>18516</td>\n",
       "      <td>1200</td>\n",
       "    </tr>\n",
       "    <tr>\n",
       "      <th>4</th>\n",
       "      <td>58al2-NpGO8</td>\n",
       "      <td>Living Like The Ultimate Gym &amp;quot;BRO&amp;quot;</td>\n",
       "      <td>2022-02-06</td>\n",
       "      <td>346821</td>\n",
       "      <td>18363</td>\n",
       "      <td>1151</td>\n",
       "    </tr>\n",
       "  </tbody>\n",
       "</table>\n",
       "</div>"
      ],
      "text/plain": [
       "      video_id                                        video_title upload_date  \\\n",
       "0  7T_7e4KKBSw          How The Fitness Industry Is Scamming YOU!  2022-02-24   \n",
       "1  8ea_8bGLjJc  I Tried The Worlds Strictest Diet (According T...  2022-02-20   \n",
       "2  3ayRRjn-NMc                        Confessions Of A Fake Natty  2022-02-17   \n",
       "3  iwh1CG49TXA  I Went On A 7 Day CRASH Diet! (10lbs in 1 Week!?)  2022-02-10   \n",
       "4  58al2-NpGO8       Living Like The Ultimate Gym &quot;BRO&quot;  2022-02-06   \n",
       "\n",
       "  view_count like_count comment_count  \n",
       "0     134741      10016           779  \n",
       "1     275959      14089          1241  \n",
       "2     308621      18798          1227  \n",
       "3     414143      18516          1200  \n",
       "4     346821      18363          1151  "
      ]
     },
     "execution_count": 10,
     "metadata": {},
     "output_type": "execute_result"
    }
   ],
   "source": [
    "# create a dataframe\n",
    "df2 = pd.DataFrame(columns= ['video_id', 'video_title', 'upload_date', 'view_count', 'like_count', 'comment_count'])\n",
    "df2 = get_videos(df2)\n",
    "df2.head()"
   ]
  },
  {
   "cell_type": "code",
   "execution_count": 11,
   "id": "307340a2",
   "metadata": {},
   "outputs": [
    {
     "name": "stdout",
     "output_type": "stream",
     "text": [
      "Collecting psycopg2\n",
      "  Downloading psycopg2-2.9.3-cp38-cp38-win_amd64.whl (1.1 MB)\n",
      "Installing collected packages: psycopg2\n",
      "Successfully installed psycopg2-2.9.3\n"
     ]
    }
   ],
   "source": [
    "# import the dataframe to an AWS database\n",
    "!pip install psycopg2\n",
    "import psycopg2 as ps\n"
   ]
  },
  {
   "cell_type": "code",
   "execution_count": 12,
   "id": "4308434c",
   "metadata": {},
   "outputs": [],
   "source": [
    "# Check for errors in connection to the database\n",
    "def connect_to_db(host_name, dbname, port, username, password): \n",
    "    try:\n",
    "        conn = ps.connect(host=host_name, database=dbname, user=username, password=password, port=port)\n",
    "\n",
    "    except ps.OperationalError as e:\n",
    "        raise e\n",
    "    else:\n",
    "        print('Beam me up, Scotty!')\n",
    "    return conn"
   ]
  },
  {
   "cell_type": "code",
   "execution_count": 13,
   "id": "8f046d2b",
   "metadata": {},
   "outputs": [
    {
     "name": "stdout",
     "output_type": "stream",
     "text": [
      "Beam me up, Scotty!\n"
     ]
    }
   ],
   "source": [
    "# conn to AWS db using imported credentials from config.py\n",
    "conn = None\n",
    "\n",
    "conn = connect_to_db(host_name, dbname, port, username, password)"
   ]
  },
  {
   "cell_type": "code",
   "execution_count": 14,
   "id": "81462ff3",
   "metadata": {},
   "outputs": [
    {
     "data": {
      "text/html": [
       "<div>\n",
       "<style scoped>\n",
       "    .dataframe tbody tr th:only-of-type {\n",
       "        vertical-align: middle;\n",
       "    }\n",
       "\n",
       "    .dataframe tbody tr th {\n",
       "        vertical-align: top;\n",
       "    }\n",
       "\n",
       "    .dataframe thead th {\n",
       "        text-align: right;\n",
       "    }\n",
       "</style>\n",
       "<table border=\"1\" class=\"dataframe\">\n",
       "  <thead>\n",
       "    <tr style=\"text-align: right;\">\n",
       "      <th></th>\n",
       "      <th>video_id</th>\n",
       "      <th>video_title</th>\n",
       "      <th>upload_date</th>\n",
       "      <th>view_count</th>\n",
       "      <th>like_count</th>\n",
       "      <th>comment_count</th>\n",
       "    </tr>\n",
       "  </thead>\n",
       "  <tbody>\n",
       "    <tr>\n",
       "      <th>0</th>\n",
       "      <td>7T_7e4KKBSw</td>\n",
       "      <td>How The Fitness Industry Is Scamming YOU!</td>\n",
       "      <td>2022-02-24</td>\n",
       "      <td>134741</td>\n",
       "      <td>10016</td>\n",
       "      <td>779</td>\n",
       "    </tr>\n",
       "    <tr>\n",
       "      <th>1</th>\n",
       "      <td>8ea_8bGLjJc</td>\n",
       "      <td>I Tried The Worlds Strictest Diet (According T...</td>\n",
       "      <td>2022-02-20</td>\n",
       "      <td>275959</td>\n",
       "      <td>14089</td>\n",
       "      <td>1241</td>\n",
       "    </tr>\n",
       "    <tr>\n",
       "      <th>2</th>\n",
       "      <td>3ayRRjn-NMc</td>\n",
       "      <td>Confessions Of A Fake Natty</td>\n",
       "      <td>2022-02-17</td>\n",
       "      <td>308621</td>\n",
       "      <td>18798</td>\n",
       "      <td>1227</td>\n",
       "    </tr>\n",
       "    <tr>\n",
       "      <th>3</th>\n",
       "      <td>iwh1CG49TXA</td>\n",
       "      <td>I Went On A 7 Day CRASH Diet! (10lbs in 1 Week!?)</td>\n",
       "      <td>2022-02-10</td>\n",
       "      <td>414143</td>\n",
       "      <td>18516</td>\n",
       "      <td>1200</td>\n",
       "    </tr>\n",
       "    <tr>\n",
       "      <th>4</th>\n",
       "      <td>58al2-NpGO8</td>\n",
       "      <td>Living Like The Ultimate Gym &amp;quot;BRO&amp;quot;</td>\n",
       "      <td>2022-02-06</td>\n",
       "      <td>346821</td>\n",
       "      <td>18363</td>\n",
       "      <td>1151</td>\n",
       "    </tr>\n",
       "    <tr>\n",
       "      <th>...</th>\n",
       "      <td>...</td>\n",
       "      <td>...</td>\n",
       "      <td>...</td>\n",
       "      <td>...</td>\n",
       "      <td>...</td>\n",
       "      <td>...</td>\n",
       "    </tr>\n",
       "    <tr>\n",
       "      <th>249</th>\n",
       "      <td>8XLIYeWIGRs</td>\n",
       "      <td>I Tried Jason Momoas Workout  Diet For AQUAMAN...</td>\n",
       "      <td>2019-07-18</td>\n",
       "      <td>1583588</td>\n",
       "      <td>28240</td>\n",
       "      <td>1990</td>\n",
       "    </tr>\n",
       "    <tr>\n",
       "      <th>250</th>\n",
       "      <td>6H-h5nzT4bI</td>\n",
       "      <td>I Lived Like Mark Wahlberg For A Whole Day | 4...</td>\n",
       "      <td>2019-07-13</td>\n",
       "      <td>1994524</td>\n",
       "      <td>60179</td>\n",
       "      <td>3305</td>\n",
       "    </tr>\n",
       "    <tr>\n",
       "      <th>251</th>\n",
       "      <td>2_CRP6CnnIg</td>\n",
       "      <td>Letting Celebrities DECIDE What i Eat for 24 H...</td>\n",
       "      <td>2019-07-09</td>\n",
       "      <td>242862</td>\n",
       "      <td>9098</td>\n",
       "      <td>345</td>\n",
       "    </tr>\n",
       "    <tr>\n",
       "      <th>252</th>\n",
       "      <td>k2Vj40tJ4kE</td>\n",
       "      <td>Letting Homeless People DECIDE What i Eat For ...</td>\n",
       "      <td>2019-07-01</td>\n",
       "      <td>120657</td>\n",
       "      <td>9298</td>\n",
       "      <td>385</td>\n",
       "    </tr>\n",
       "    <tr>\n",
       "      <th>253</th>\n",
       "      <td>olmnUrNgr9w</td>\n",
       "      <td>10,000 CALORIE CHALLENGE HALO TOP Edition | MA...</td>\n",
       "      <td>2019-06-26</td>\n",
       "      <td>293661</td>\n",
       "      <td>11235</td>\n",
       "      <td>579</td>\n",
       "    </tr>\n",
       "  </tbody>\n",
       "</table>\n",
       "<p>254 rows × 6 columns</p>\n",
       "</div>"
      ],
      "text/plain": [
       "        video_id                                        video_title  \\\n",
       "0    7T_7e4KKBSw          How The Fitness Industry Is Scamming YOU!   \n",
       "1    8ea_8bGLjJc  I Tried The Worlds Strictest Diet (According T...   \n",
       "2    3ayRRjn-NMc                        Confessions Of A Fake Natty   \n",
       "3    iwh1CG49TXA  I Went On A 7 Day CRASH Diet! (10lbs in 1 Week!?)   \n",
       "4    58al2-NpGO8       Living Like The Ultimate Gym &quot;BRO&quot;   \n",
       "..           ...                                                ...   \n",
       "249  8XLIYeWIGRs  I Tried Jason Momoas Workout  Diet For AQUAMAN...   \n",
       "250  6H-h5nzT4bI  I Lived Like Mark Wahlberg For A Whole Day | 4...   \n",
       "251  2_CRP6CnnIg  Letting Celebrities DECIDE What i Eat for 24 H...   \n",
       "252  k2Vj40tJ4kE  Letting Homeless People DECIDE What i Eat For ...   \n",
       "253  olmnUrNgr9w  10,000 CALORIE CHALLENGE HALO TOP Edition | MA...   \n",
       "\n",
       "    upload_date view_count like_count comment_count  \n",
       "0    2022-02-24     134741      10016           779  \n",
       "1    2022-02-20     275959      14089          1241  \n",
       "2    2022-02-17     308621      18798          1227  \n",
       "3    2022-02-10     414143      18516          1200  \n",
       "4    2022-02-06     346821      18363          1151  \n",
       "..          ...        ...        ...           ...  \n",
       "249  2019-07-18    1583588      28240          1990  \n",
       "250  2019-07-13    1994524      60179          3305  \n",
       "251  2019-07-09     242862       9098           345  \n",
       "252  2019-07-01     120657       9298           385  \n",
       "253  2019-06-26     293661      11235           579  \n",
       "\n",
       "[254 rows x 6 columns]"
      ]
     },
     "execution_count": 14,
     "metadata": {},
     "output_type": "execute_result"
    }
   ],
   "source": [
    "# create database table that looks like dataframe df2\n",
    "df2"
   ]
  },
  {
   "cell_type": "code",
   "execution_count": 15,
   "id": "a0f53623",
   "metadata": {},
   "outputs": [],
   "source": [
    " # create database table, push command from notebook to my postgres DB on AWS\n",
    "def create_table(curr):\n",
    "    create_table_command = ('''CREATE TABLE IF NOT EXISTS videos (\n",
    "                            video_id VARCHAR(255) PRIMARY KEY,\n",
    "                            video_title TEXT NOT NULL,\n",
    "                            upload_date DATE NOT NULL DEFAULT CURRENT_DATE,\n",
    "                            view_count INTEGER NOT NULL,\n",
    "                            like_count INTEGER NOT NULL,\n",
    "                            comment_count INTEGER NOT NULL\n",
    "                    )''')\n",
    "    curr.execute(create_table_command) #executes SQL command on python notebook"
   ]
  },
  {
   "cell_type": "code",
   "execution_count": 16,
   "id": "ea1d05db",
   "metadata": {},
   "outputs": [],
   "source": [
    "curr = conn.cursor() # allows python to execute SQL commands and fetch the results from the db"
   ]
  },
  {
   "cell_type": "code",
   "execution_count": 17,
   "id": "b6f843e3",
   "metadata": {},
   "outputs": [],
   "source": [
    "create_table(curr)"
   ]
  },
  {
   "cell_type": "code",
   "execution_count": 18,
   "id": "c796716a",
   "metadata": {},
   "outputs": [],
   "source": [
    "# executes SQL command onto the database\n",
    "conn.commit()"
   ]
  },
  {
   "cell_type": "code",
   "execution_count": 19,
   "id": "631e3af7",
   "metadata": {},
   "outputs": [],
   "source": [
    "# building the function for updating the database\n",
    "\n",
    "# handling data for scalability\n",
    "\n",
    "# check to see if video exists\n",
    "def update_db(curr,df):\n",
    "    tmp_df = pd.DataFrame(columns=['video_id', 'video_title', 'upload_date', 'view_count',\n",
    "                                   'like_count', 'comment_count'])\n",
    "    for i, row in df.iterrows():\n",
    "        if check_if_video_exists(curr, row['video_id']): # If video already exists then we will update\n",
    "            update_row(curr,row['video_id'],row['video_title'],row['view_count'],row['like_count'],row['comment_count'])\n",
    "        else: # The video doesn't exists so we will add it to a temp df and append it using append_from_df_to_db\n",
    "            tmp_df = tmp_df.append(row)\n",
    "\n",
    "    return tmp_df\n",
    "\n",
    "# perform update on existing videos\n",
    "# perform an insert on new videos\n",
    " "
   ]
  },
  {
   "cell_type": "code",
   "execution_count": 20,
   "id": "76e25af1",
   "metadata": {},
   "outputs": [],
   "source": [
    "def check_if_video_exists(curr, video_id): \n",
    "    query = (\"\"\"SELECT video_id FROM VIDEOS WHERE video_id = %s\"\"\")\n",
    "\n",
    "    curr.execute(query, (video_id,)) # python needs video_id to be expressed as a tuple\n",
    "    return curr.fetchone() is not None # fetchone() returns a single row from a table"
   ]
  },
  {
   "cell_type": "code",
   "execution_count": 21,
   "id": "4c1d417e",
   "metadata": {},
   "outputs": [],
   "source": [
    "def update_row(curr, video_id, video_title, view_count, like_count, comment_count):\n",
    "    query = (\"\"\"UPDATE videos\n",
    "            SET video_title = %s,\n",
    "                view_count = %s,\n",
    "                like_count = %s,\n",
    "                comment_count = %s\n",
    "            WHERE video_id = %s;\"\"\")\n",
    "    vars_to_update = (video_title, view_count, like_count, comment_count, video_id)\n",
    "    curr.execute(query, vars_to_update)"
   ]
  },
  {
   "cell_type": "code",
   "execution_count": 22,
   "id": "c0c86d1d",
   "metadata": {},
   "outputs": [],
   "source": [
    "new_vid_df = update_db(curr,df2)"
   ]
  },
  {
   "cell_type": "code",
   "execution_count": 23,
   "id": "0fd14258",
   "metadata": {},
   "outputs": [],
   "source": [
    "# write SQL INSERT INTO command (just like the UPDATE command) to insert data into videos table\n",
    "# wrap it into a function\n",
    "def insert_into_table(curr, video_id, video_title, upload_date, view_count, like_count, comment_count):\n",
    "    insert_into_videos = (\"\"\"INSERT INTO videos (video_id, video_title, upload_date,\n",
    "                        view_count, like_count, comment_count)\n",
    "    VALUES(%s,%s,%s,%s,%s,%s);\"\"\")\n",
    "    row_to_insert = (video_id, video_title, upload_date, view_count, like_count, comment_count)\n",
    "    curr.execute(insert_into_videos, row_to_insert)"
   ]
  },
  {
   "cell_type": "code",
   "execution_count": 24,
   "id": "8283afd9",
   "metadata": {},
   "outputs": [],
   "source": [
    "# append data from df to SQL db\n",
    "\n",
    "def append_from_df_to_db(curr, df2):\n",
    "    for i, row in df2.iterrows():\n",
    "        insert_into_table(curr, row['video_id'], row['video_title'], row['upload_date'], row['view_count'], row['like_count'], row['comment_count'])"
   ]
  },
  {
   "cell_type": "code",
   "execution_count": 25,
   "id": "e1019000",
   "metadata": {},
   "outputs": [],
   "source": [
    "new_vid_df = update_db(curr,df2)\n"
   ]
  },
  {
   "cell_type": "code",
   "execution_count": 26,
   "id": "eff223be",
   "metadata": {},
   "outputs": [],
   "source": [
    "tennydata = df2.to_csv('C:/Users/davez/Desktop/Youtube_Project/Youtube_Project/tenndydata.csv', index=False)"
   ]
  },
  {
   "cell_type": "code",
   "execution_count": 27,
   "id": "ade5492a",
   "metadata": {},
   "outputs": [],
   "source": [
    "#insert new videos into db table\n",
    "\n",
    "append_from_df_to_db(curr, new_vid_df)\n",
    "conn.commit()"
   ]
  },
  {
   "cell_type": "code",
   "execution_count": 28,
   "id": "be3da715",
   "metadata": {},
   "outputs": [
    {
     "data": {
      "text/html": [
       "        <script type=\"text/javascript\">\n",
       "        window.PlotlyConfig = {MathJaxConfig: 'local'};\n",
       "        if (window.MathJax) {MathJax.Hub.Config({SVG: {font: \"STIX-Web\"}});}\n",
       "        if (typeof require !== 'undefined') {\n",
       "        require.undef(\"plotly\");\n",
       "        requirejs.config({\n",
       "            paths: {\n",
       "                'plotly': ['https://cdn.plot.ly/plotly-2.8.3.min']\n",
       "            }\n",
       "        });\n",
       "        require(['plotly'], function(Plotly) {\n",
       "            window._Plotly = Plotly;\n",
       "        });\n",
       "        }\n",
       "        </script>\n",
       "        "
      ]
     },
     "metadata": {},
     "output_type": "display_data"
    },
    {
     "data": {
      "text/plain": [
       "<function cufflinks.offline.go_offline(connected=None)>"
      ]
     },
     "execution_count": 28,
     "metadata": {},
     "output_type": "execute_result"
    }
   ],
   "source": [
    "# data visualization\n",
    "\n",
    "import numpy as np\n",
    "import chart_studio.plotly as py\n",
    "import seaborn as sns\n",
    "import plotly.express as px\n",
    "import cufflinks as cf\n",
    "import plotly.express as ps\n",
    "%matplotlib inline\n",
    "\n",
    "from plotly.offline import download_plotlyjs, init_notebook_mode, plot, iplot\n",
    "init_notebook_mode(connected=True)\n",
    "cf.go_offline"
   ]
  },
  {
   "cell_type": "code",
   "execution_count": 37,
   "id": "2b1b141e",
   "metadata": {},
   "outputs": [
    {
     "data": {
      "application/vnd.plotly.v1+json": {
       "config": {
        "plotlyServerURL": "https://plot.ly"
       },
       "data": [
        {
         "type": "bar",
         "x": [
          "video_title"
         ],
         "y": [
          "like_count"
         ]
        }
       ],
       "layout": {
        "template": {
         "data": {
          "bar": [
           {
            "error_x": {
             "color": "#2a3f5f"
            },
            "error_y": {
             "color": "#2a3f5f"
            },
            "marker": {
             "line": {
              "color": "#E5ECF6",
              "width": 0.5
             },
             "pattern": {
              "fillmode": "overlay",
              "size": 10,
              "solidity": 0.2
             }
            },
            "type": "bar"
           }
          ],
          "barpolar": [
           {
            "marker": {
             "line": {
              "color": "#E5ECF6",
              "width": 0.5
             },
             "pattern": {
              "fillmode": "overlay",
              "size": 10,
              "solidity": 0.2
             }
            },
            "type": "barpolar"
           }
          ],
          "carpet": [
           {
            "aaxis": {
             "endlinecolor": "#2a3f5f",
             "gridcolor": "white",
             "linecolor": "white",
             "minorgridcolor": "white",
             "startlinecolor": "#2a3f5f"
            },
            "baxis": {
             "endlinecolor": "#2a3f5f",
             "gridcolor": "white",
             "linecolor": "white",
             "minorgridcolor": "white",
             "startlinecolor": "#2a3f5f"
            },
            "type": "carpet"
           }
          ],
          "choropleth": [
           {
            "colorbar": {
             "outlinewidth": 0,
             "ticks": ""
            },
            "type": "choropleth"
           }
          ],
          "contour": [
           {
            "colorbar": {
             "outlinewidth": 0,
             "ticks": ""
            },
            "colorscale": [
             [
              0,
              "#0d0887"
             ],
             [
              0.1111111111111111,
              "#46039f"
             ],
             [
              0.2222222222222222,
              "#7201a8"
             ],
             [
              0.3333333333333333,
              "#9c179e"
             ],
             [
              0.4444444444444444,
              "#bd3786"
             ],
             [
              0.5555555555555556,
              "#d8576b"
             ],
             [
              0.6666666666666666,
              "#ed7953"
             ],
             [
              0.7777777777777778,
              "#fb9f3a"
             ],
             [
              0.8888888888888888,
              "#fdca26"
             ],
             [
              1,
              "#f0f921"
             ]
            ],
            "type": "contour"
           }
          ],
          "contourcarpet": [
           {
            "colorbar": {
             "outlinewidth": 0,
             "ticks": ""
            },
            "type": "contourcarpet"
           }
          ],
          "heatmap": [
           {
            "colorbar": {
             "outlinewidth": 0,
             "ticks": ""
            },
            "colorscale": [
             [
              0,
              "#0d0887"
             ],
             [
              0.1111111111111111,
              "#46039f"
             ],
             [
              0.2222222222222222,
              "#7201a8"
             ],
             [
              0.3333333333333333,
              "#9c179e"
             ],
             [
              0.4444444444444444,
              "#bd3786"
             ],
             [
              0.5555555555555556,
              "#d8576b"
             ],
             [
              0.6666666666666666,
              "#ed7953"
             ],
             [
              0.7777777777777778,
              "#fb9f3a"
             ],
             [
              0.8888888888888888,
              "#fdca26"
             ],
             [
              1,
              "#f0f921"
             ]
            ],
            "type": "heatmap"
           }
          ],
          "heatmapgl": [
           {
            "colorbar": {
             "outlinewidth": 0,
             "ticks": ""
            },
            "colorscale": [
             [
              0,
              "#0d0887"
             ],
             [
              0.1111111111111111,
              "#46039f"
             ],
             [
              0.2222222222222222,
              "#7201a8"
             ],
             [
              0.3333333333333333,
              "#9c179e"
             ],
             [
              0.4444444444444444,
              "#bd3786"
             ],
             [
              0.5555555555555556,
              "#d8576b"
             ],
             [
              0.6666666666666666,
              "#ed7953"
             ],
             [
              0.7777777777777778,
              "#fb9f3a"
             ],
             [
              0.8888888888888888,
              "#fdca26"
             ],
             [
              1,
              "#f0f921"
             ]
            ],
            "type": "heatmapgl"
           }
          ],
          "histogram": [
           {
            "marker": {
             "pattern": {
              "fillmode": "overlay",
              "size": 10,
              "solidity": 0.2
             }
            },
            "type": "histogram"
           }
          ],
          "histogram2d": [
           {
            "colorbar": {
             "outlinewidth": 0,
             "ticks": ""
            },
            "colorscale": [
             [
              0,
              "#0d0887"
             ],
             [
              0.1111111111111111,
              "#46039f"
             ],
             [
              0.2222222222222222,
              "#7201a8"
             ],
             [
              0.3333333333333333,
              "#9c179e"
             ],
             [
              0.4444444444444444,
              "#bd3786"
             ],
             [
              0.5555555555555556,
              "#d8576b"
             ],
             [
              0.6666666666666666,
              "#ed7953"
             ],
             [
              0.7777777777777778,
              "#fb9f3a"
             ],
             [
              0.8888888888888888,
              "#fdca26"
             ],
             [
              1,
              "#f0f921"
             ]
            ],
            "type": "histogram2d"
           }
          ],
          "histogram2dcontour": [
           {
            "colorbar": {
             "outlinewidth": 0,
             "ticks": ""
            },
            "colorscale": [
             [
              0,
              "#0d0887"
             ],
             [
              0.1111111111111111,
              "#46039f"
             ],
             [
              0.2222222222222222,
              "#7201a8"
             ],
             [
              0.3333333333333333,
              "#9c179e"
             ],
             [
              0.4444444444444444,
              "#bd3786"
             ],
             [
              0.5555555555555556,
              "#d8576b"
             ],
             [
              0.6666666666666666,
              "#ed7953"
             ],
             [
              0.7777777777777778,
              "#fb9f3a"
             ],
             [
              0.8888888888888888,
              "#fdca26"
             ],
             [
              1,
              "#f0f921"
             ]
            ],
            "type": "histogram2dcontour"
           }
          ],
          "mesh3d": [
           {
            "colorbar": {
             "outlinewidth": 0,
             "ticks": ""
            },
            "type": "mesh3d"
           }
          ],
          "parcoords": [
           {
            "line": {
             "colorbar": {
              "outlinewidth": 0,
              "ticks": ""
             }
            },
            "type": "parcoords"
           }
          ],
          "pie": [
           {
            "automargin": true,
            "type": "pie"
           }
          ],
          "scatter": [
           {
            "marker": {
             "colorbar": {
              "outlinewidth": 0,
              "ticks": ""
             }
            },
            "type": "scatter"
           }
          ],
          "scatter3d": [
           {
            "line": {
             "colorbar": {
              "outlinewidth": 0,
              "ticks": ""
             }
            },
            "marker": {
             "colorbar": {
              "outlinewidth": 0,
              "ticks": ""
             }
            },
            "type": "scatter3d"
           }
          ],
          "scattercarpet": [
           {
            "marker": {
             "colorbar": {
              "outlinewidth": 0,
              "ticks": ""
             }
            },
            "type": "scattercarpet"
           }
          ],
          "scattergeo": [
           {
            "marker": {
             "colorbar": {
              "outlinewidth": 0,
              "ticks": ""
             }
            },
            "type": "scattergeo"
           }
          ],
          "scattergl": [
           {
            "marker": {
             "colorbar": {
              "outlinewidth": 0,
              "ticks": ""
             }
            },
            "type": "scattergl"
           }
          ],
          "scattermapbox": [
           {
            "marker": {
             "colorbar": {
              "outlinewidth": 0,
              "ticks": ""
             }
            },
            "type": "scattermapbox"
           }
          ],
          "scatterpolar": [
           {
            "marker": {
             "colorbar": {
              "outlinewidth": 0,
              "ticks": ""
             }
            },
            "type": "scatterpolar"
           }
          ],
          "scatterpolargl": [
           {
            "marker": {
             "colorbar": {
              "outlinewidth": 0,
              "ticks": ""
             }
            },
            "type": "scatterpolargl"
           }
          ],
          "scatterternary": [
           {
            "marker": {
             "colorbar": {
              "outlinewidth": 0,
              "ticks": ""
             }
            },
            "type": "scatterternary"
           }
          ],
          "surface": [
           {
            "colorbar": {
             "outlinewidth": 0,
             "ticks": ""
            },
            "colorscale": [
             [
              0,
              "#0d0887"
             ],
             [
              0.1111111111111111,
              "#46039f"
             ],
             [
              0.2222222222222222,
              "#7201a8"
             ],
             [
              0.3333333333333333,
              "#9c179e"
             ],
             [
              0.4444444444444444,
              "#bd3786"
             ],
             [
              0.5555555555555556,
              "#d8576b"
             ],
             [
              0.6666666666666666,
              "#ed7953"
             ],
             [
              0.7777777777777778,
              "#fb9f3a"
             ],
             [
              0.8888888888888888,
              "#fdca26"
             ],
             [
              1,
              "#f0f921"
             ]
            ],
            "type": "surface"
           }
          ],
          "table": [
           {
            "cells": {
             "fill": {
              "color": "#EBF0F8"
             },
             "line": {
              "color": "white"
             }
            },
            "header": {
             "fill": {
              "color": "#C8D4E3"
             },
             "line": {
              "color": "white"
             }
            },
            "type": "table"
           }
          ]
         },
         "layout": {
          "annotationdefaults": {
           "arrowcolor": "#2a3f5f",
           "arrowhead": 0,
           "arrowwidth": 1
          },
          "autotypenumbers": "strict",
          "coloraxis": {
           "colorbar": {
            "outlinewidth": 0,
            "ticks": ""
           }
          },
          "colorscale": {
           "diverging": [
            [
             0,
             "#8e0152"
            ],
            [
             0.1,
             "#c51b7d"
            ],
            [
             0.2,
             "#de77ae"
            ],
            [
             0.3,
             "#f1b6da"
            ],
            [
             0.4,
             "#fde0ef"
            ],
            [
             0.5,
             "#f7f7f7"
            ],
            [
             0.6,
             "#e6f5d0"
            ],
            [
             0.7,
             "#b8e186"
            ],
            [
             0.8,
             "#7fbc41"
            ],
            [
             0.9,
             "#4d9221"
            ],
            [
             1,
             "#276419"
            ]
           ],
           "sequential": [
            [
             0,
             "#0d0887"
            ],
            [
             0.1111111111111111,
             "#46039f"
            ],
            [
             0.2222222222222222,
             "#7201a8"
            ],
            [
             0.3333333333333333,
             "#9c179e"
            ],
            [
             0.4444444444444444,
             "#bd3786"
            ],
            [
             0.5555555555555556,
             "#d8576b"
            ],
            [
             0.6666666666666666,
             "#ed7953"
            ],
            [
             0.7777777777777778,
             "#fb9f3a"
            ],
            [
             0.8888888888888888,
             "#fdca26"
            ],
            [
             1,
             "#f0f921"
            ]
           ],
           "sequentialminus": [
            [
             0,
             "#0d0887"
            ],
            [
             0.1111111111111111,
             "#46039f"
            ],
            [
             0.2222222222222222,
             "#7201a8"
            ],
            [
             0.3333333333333333,
             "#9c179e"
            ],
            [
             0.4444444444444444,
             "#bd3786"
            ],
            [
             0.5555555555555556,
             "#d8576b"
            ],
            [
             0.6666666666666666,
             "#ed7953"
            ],
            [
             0.7777777777777778,
             "#fb9f3a"
            ],
            [
             0.8888888888888888,
             "#fdca26"
            ],
            [
             1,
             "#f0f921"
            ]
           ]
          },
          "colorway": [
           "#636efa",
           "#EF553B",
           "#00cc96",
           "#ab63fa",
           "#FFA15A",
           "#19d3f3",
           "#FF6692",
           "#B6E880",
           "#FF97FF",
           "#FECB52"
          ],
          "font": {
           "color": "#2a3f5f"
          },
          "geo": {
           "bgcolor": "white",
           "lakecolor": "white",
           "landcolor": "#E5ECF6",
           "showlakes": true,
           "showland": true,
           "subunitcolor": "white"
          },
          "hoverlabel": {
           "align": "left"
          },
          "hovermode": "closest",
          "mapbox": {
           "style": "light"
          },
          "paper_bgcolor": "white",
          "plot_bgcolor": "#E5ECF6",
          "polar": {
           "angularaxis": {
            "gridcolor": "white",
            "linecolor": "white",
            "ticks": ""
           },
           "bgcolor": "#E5ECF6",
           "radialaxis": {
            "gridcolor": "white",
            "linecolor": "white",
            "ticks": ""
           }
          },
          "scene": {
           "xaxis": {
            "backgroundcolor": "#E5ECF6",
            "gridcolor": "white",
            "gridwidth": 2,
            "linecolor": "white",
            "showbackground": true,
            "ticks": "",
            "zerolinecolor": "white"
           },
           "yaxis": {
            "backgroundcolor": "#E5ECF6",
            "gridcolor": "white",
            "gridwidth": 2,
            "linecolor": "white",
            "showbackground": true,
            "ticks": "",
            "zerolinecolor": "white"
           },
           "zaxis": {
            "backgroundcolor": "#E5ECF6",
            "gridcolor": "white",
            "gridwidth": 2,
            "linecolor": "white",
            "showbackground": true,
            "ticks": "",
            "zerolinecolor": "white"
           }
          },
          "shapedefaults": {
           "line": {
            "color": "#2a3f5f"
           }
          },
          "ternary": {
           "aaxis": {
            "gridcolor": "white",
            "linecolor": "white",
            "ticks": ""
           },
           "baxis": {
            "gridcolor": "white",
            "linecolor": "white",
            "ticks": ""
           },
           "bgcolor": "#E5ECF6",
           "caxis": {
            "gridcolor": "white",
            "linecolor": "white",
            "ticks": ""
           }
          },
          "title": {
           "x": 0.05
          },
          "xaxis": {
           "automargin": true,
           "gridcolor": "white",
           "linecolor": "white",
           "ticks": "",
           "title": {
            "standoff": 15
           },
           "zerolinecolor": "white",
           "zerolinewidth": 2
          },
          "yaxis": {
           "automargin": true,
           "gridcolor": "white",
           "linecolor": "white",
           "ticks": "",
           "title": {
            "standoff": 15
           },
           "zerolinecolor": "white",
           "zerolinewidth": 2
          }
         }
        },
        "title": {
         "text": "Views, Likes and Comments"
        }
       }
      },
      "text/html": [
       "<div>                            <div id=\"6765ba54-7dae-446f-b71f-87919fdc0100\" class=\"plotly-graph-div\" style=\"height:525px; width:100%;\"></div>            <script type=\"text/javascript\">                require([\"plotly\"], function(Plotly) {                    window.PLOTLYENV=window.PLOTLYENV || {};                                    if (document.getElementById(\"6765ba54-7dae-446f-b71f-87919fdc0100\")) {                    Plotly.newPlot(                        \"6765ba54-7dae-446f-b71f-87919fdc0100\",                        [{\"x\":[\"video_title\"],\"y\":[\"like_count\"],\"type\":\"bar\"}],                        {\"title\":{\"text\":\"Views, Likes and Comments\"},\"template\":{\"data\":{\"bar\":[{\"error_x\":{\"color\":\"#2a3f5f\"},\"error_y\":{\"color\":\"#2a3f5f\"},\"marker\":{\"line\":{\"color\":\"#E5ECF6\",\"width\":0.5},\"pattern\":{\"fillmode\":\"overlay\",\"size\":10,\"solidity\":0.2}},\"type\":\"bar\"}],\"barpolar\":[{\"marker\":{\"line\":{\"color\":\"#E5ECF6\",\"width\":0.5},\"pattern\":{\"fillmode\":\"overlay\",\"size\":10,\"solidity\":0.2}},\"type\":\"barpolar\"}],\"carpet\":[{\"aaxis\":{\"endlinecolor\":\"#2a3f5f\",\"gridcolor\":\"white\",\"linecolor\":\"white\",\"minorgridcolor\":\"white\",\"startlinecolor\":\"#2a3f5f\"},\"baxis\":{\"endlinecolor\":\"#2a3f5f\",\"gridcolor\":\"white\",\"linecolor\":\"white\",\"minorgridcolor\":\"white\",\"startlinecolor\":\"#2a3f5f\"},\"type\":\"carpet\"}],\"choropleth\":[{\"colorbar\":{\"outlinewidth\":0,\"ticks\":\"\"},\"type\":\"choropleth\"}],\"contour\":[{\"colorbar\":{\"outlinewidth\":0,\"ticks\":\"\"},\"colorscale\":[[0.0,\"#0d0887\"],[0.1111111111111111,\"#46039f\"],[0.2222222222222222,\"#7201a8\"],[0.3333333333333333,\"#9c179e\"],[0.4444444444444444,\"#bd3786\"],[0.5555555555555556,\"#d8576b\"],[0.6666666666666666,\"#ed7953\"],[0.7777777777777778,\"#fb9f3a\"],[0.8888888888888888,\"#fdca26\"],[1.0,\"#f0f921\"]],\"type\":\"contour\"}],\"contourcarpet\":[{\"colorbar\":{\"outlinewidth\":0,\"ticks\":\"\"},\"type\":\"contourcarpet\"}],\"heatmap\":[{\"colorbar\":{\"outlinewidth\":0,\"ticks\":\"\"},\"colorscale\":[[0.0,\"#0d0887\"],[0.1111111111111111,\"#46039f\"],[0.2222222222222222,\"#7201a8\"],[0.3333333333333333,\"#9c179e\"],[0.4444444444444444,\"#bd3786\"],[0.5555555555555556,\"#d8576b\"],[0.6666666666666666,\"#ed7953\"],[0.7777777777777778,\"#fb9f3a\"],[0.8888888888888888,\"#fdca26\"],[1.0,\"#f0f921\"]],\"type\":\"heatmap\"}],\"heatmapgl\":[{\"colorbar\":{\"outlinewidth\":0,\"ticks\":\"\"},\"colorscale\":[[0.0,\"#0d0887\"],[0.1111111111111111,\"#46039f\"],[0.2222222222222222,\"#7201a8\"],[0.3333333333333333,\"#9c179e\"],[0.4444444444444444,\"#bd3786\"],[0.5555555555555556,\"#d8576b\"],[0.6666666666666666,\"#ed7953\"],[0.7777777777777778,\"#fb9f3a\"],[0.8888888888888888,\"#fdca26\"],[1.0,\"#f0f921\"]],\"type\":\"heatmapgl\"}],\"histogram\":[{\"marker\":{\"pattern\":{\"fillmode\":\"overlay\",\"size\":10,\"solidity\":0.2}},\"type\":\"histogram\"}],\"histogram2d\":[{\"colorbar\":{\"outlinewidth\":0,\"ticks\":\"\"},\"colorscale\":[[0.0,\"#0d0887\"],[0.1111111111111111,\"#46039f\"],[0.2222222222222222,\"#7201a8\"],[0.3333333333333333,\"#9c179e\"],[0.4444444444444444,\"#bd3786\"],[0.5555555555555556,\"#d8576b\"],[0.6666666666666666,\"#ed7953\"],[0.7777777777777778,\"#fb9f3a\"],[0.8888888888888888,\"#fdca26\"],[1.0,\"#f0f921\"]],\"type\":\"histogram2d\"}],\"histogram2dcontour\":[{\"colorbar\":{\"outlinewidth\":0,\"ticks\":\"\"},\"colorscale\":[[0.0,\"#0d0887\"],[0.1111111111111111,\"#46039f\"],[0.2222222222222222,\"#7201a8\"],[0.3333333333333333,\"#9c179e\"],[0.4444444444444444,\"#bd3786\"],[0.5555555555555556,\"#d8576b\"],[0.6666666666666666,\"#ed7953\"],[0.7777777777777778,\"#fb9f3a\"],[0.8888888888888888,\"#fdca26\"],[1.0,\"#f0f921\"]],\"type\":\"histogram2dcontour\"}],\"mesh3d\":[{\"colorbar\":{\"outlinewidth\":0,\"ticks\":\"\"},\"type\":\"mesh3d\"}],\"parcoords\":[{\"line\":{\"colorbar\":{\"outlinewidth\":0,\"ticks\":\"\"}},\"type\":\"parcoords\"}],\"pie\":[{\"automargin\":true,\"type\":\"pie\"}],\"scatter\":[{\"marker\":{\"colorbar\":{\"outlinewidth\":0,\"ticks\":\"\"}},\"type\":\"scatter\"}],\"scatter3d\":[{\"line\":{\"colorbar\":{\"outlinewidth\":0,\"ticks\":\"\"}},\"marker\":{\"colorbar\":{\"outlinewidth\":0,\"ticks\":\"\"}},\"type\":\"scatter3d\"}],\"scattercarpet\":[{\"marker\":{\"colorbar\":{\"outlinewidth\":0,\"ticks\":\"\"}},\"type\":\"scattercarpet\"}],\"scattergeo\":[{\"marker\":{\"colorbar\":{\"outlinewidth\":0,\"ticks\":\"\"}},\"type\":\"scattergeo\"}],\"scattergl\":[{\"marker\":{\"colorbar\":{\"outlinewidth\":0,\"ticks\":\"\"}},\"type\":\"scattergl\"}],\"scattermapbox\":[{\"marker\":{\"colorbar\":{\"outlinewidth\":0,\"ticks\":\"\"}},\"type\":\"scattermapbox\"}],\"scatterpolar\":[{\"marker\":{\"colorbar\":{\"outlinewidth\":0,\"ticks\":\"\"}},\"type\":\"scatterpolar\"}],\"scatterpolargl\":[{\"marker\":{\"colorbar\":{\"outlinewidth\":0,\"ticks\":\"\"}},\"type\":\"scatterpolargl\"}],\"scatterternary\":[{\"marker\":{\"colorbar\":{\"outlinewidth\":0,\"ticks\":\"\"}},\"type\":\"scatterternary\"}],\"surface\":[{\"colorbar\":{\"outlinewidth\":0,\"ticks\":\"\"},\"colorscale\":[[0.0,\"#0d0887\"],[0.1111111111111111,\"#46039f\"],[0.2222222222222222,\"#7201a8\"],[0.3333333333333333,\"#9c179e\"],[0.4444444444444444,\"#bd3786\"],[0.5555555555555556,\"#d8576b\"],[0.6666666666666666,\"#ed7953\"],[0.7777777777777778,\"#fb9f3a\"],[0.8888888888888888,\"#fdca26\"],[1.0,\"#f0f921\"]],\"type\":\"surface\"}],\"table\":[{\"cells\":{\"fill\":{\"color\":\"#EBF0F8\"},\"line\":{\"color\":\"white\"}},\"header\":{\"fill\":{\"color\":\"#C8D4E3\"},\"line\":{\"color\":\"white\"}},\"type\":\"table\"}]},\"layout\":{\"annotationdefaults\":{\"arrowcolor\":\"#2a3f5f\",\"arrowhead\":0,\"arrowwidth\":1},\"autotypenumbers\":\"strict\",\"coloraxis\":{\"colorbar\":{\"outlinewidth\":0,\"ticks\":\"\"}},\"colorscale\":{\"diverging\":[[0,\"#8e0152\"],[0.1,\"#c51b7d\"],[0.2,\"#de77ae\"],[0.3,\"#f1b6da\"],[0.4,\"#fde0ef\"],[0.5,\"#f7f7f7\"],[0.6,\"#e6f5d0\"],[0.7,\"#b8e186\"],[0.8,\"#7fbc41\"],[0.9,\"#4d9221\"],[1,\"#276419\"]],\"sequential\":[[0.0,\"#0d0887\"],[0.1111111111111111,\"#46039f\"],[0.2222222222222222,\"#7201a8\"],[0.3333333333333333,\"#9c179e\"],[0.4444444444444444,\"#bd3786\"],[0.5555555555555556,\"#d8576b\"],[0.6666666666666666,\"#ed7953\"],[0.7777777777777778,\"#fb9f3a\"],[0.8888888888888888,\"#fdca26\"],[1.0,\"#f0f921\"]],\"sequentialminus\":[[0.0,\"#0d0887\"],[0.1111111111111111,\"#46039f\"],[0.2222222222222222,\"#7201a8\"],[0.3333333333333333,\"#9c179e\"],[0.4444444444444444,\"#bd3786\"],[0.5555555555555556,\"#d8576b\"],[0.6666666666666666,\"#ed7953\"],[0.7777777777777778,\"#fb9f3a\"],[0.8888888888888888,\"#fdca26\"],[1.0,\"#f0f921\"]]},\"colorway\":[\"#636efa\",\"#EF553B\",\"#00cc96\",\"#ab63fa\",\"#FFA15A\",\"#19d3f3\",\"#FF6692\",\"#B6E880\",\"#FF97FF\",\"#FECB52\"],\"font\":{\"color\":\"#2a3f5f\"},\"geo\":{\"bgcolor\":\"white\",\"lakecolor\":\"white\",\"landcolor\":\"#E5ECF6\",\"showlakes\":true,\"showland\":true,\"subunitcolor\":\"white\"},\"hoverlabel\":{\"align\":\"left\"},\"hovermode\":\"closest\",\"mapbox\":{\"style\":\"light\"},\"paper_bgcolor\":\"white\",\"plot_bgcolor\":\"#E5ECF6\",\"polar\":{\"angularaxis\":{\"gridcolor\":\"white\",\"linecolor\":\"white\",\"ticks\":\"\"},\"bgcolor\":\"#E5ECF6\",\"radialaxis\":{\"gridcolor\":\"white\",\"linecolor\":\"white\",\"ticks\":\"\"}},\"scene\":{\"xaxis\":{\"backgroundcolor\":\"#E5ECF6\",\"gridcolor\":\"white\",\"gridwidth\":2,\"linecolor\":\"white\",\"showbackground\":true,\"ticks\":\"\",\"zerolinecolor\":\"white\"},\"yaxis\":{\"backgroundcolor\":\"#E5ECF6\",\"gridcolor\":\"white\",\"gridwidth\":2,\"linecolor\":\"white\",\"showbackground\":true,\"ticks\":\"\",\"zerolinecolor\":\"white\"},\"zaxis\":{\"backgroundcolor\":\"#E5ECF6\",\"gridcolor\":\"white\",\"gridwidth\":2,\"linecolor\":\"white\",\"showbackground\":true,\"ticks\":\"\",\"zerolinecolor\":\"white\"}},\"shapedefaults\":{\"line\":{\"color\":\"#2a3f5f\"}},\"ternary\":{\"aaxis\":{\"gridcolor\":\"white\",\"linecolor\":\"white\",\"ticks\":\"\"},\"baxis\":{\"gridcolor\":\"white\",\"linecolor\":\"white\",\"ticks\":\"\"},\"bgcolor\":\"#E5ECF6\",\"caxis\":{\"gridcolor\":\"white\",\"linecolor\":\"white\",\"ticks\":\"\"}},\"title\":{\"x\":0.05},\"xaxis\":{\"automargin\":true,\"gridcolor\":\"white\",\"linecolor\":\"white\",\"ticks\":\"\",\"title\":{\"standoff\":15},\"zerolinecolor\":\"white\",\"zerolinewidth\":2},\"yaxis\":{\"automargin\":true,\"gridcolor\":\"white\",\"linecolor\":\"white\",\"ticks\":\"\",\"title\":{\"standoff\":15},\"zerolinecolor\":\"white\",\"zerolinewidth\":2}}}},                        {\"responsive\": true}                    ).then(function(){\n",
       "                            \n",
       "var gd = document.getElementById('6765ba54-7dae-446f-b71f-87919fdc0100');\n",
       "var x = new MutationObserver(function (mutations, observer) {{\n",
       "        var display = window.getComputedStyle(gd).display;\n",
       "        if (!display || display === 'none') {{\n",
       "            console.log([gd, 'removed!']);\n",
       "            Plotly.purge(gd);\n",
       "            observer.disconnect();\n",
       "        }}\n",
       "}});\n",
       "\n",
       "// Listen for the removal of the full notebook cells\n",
       "var notebookContainer = gd.closest('#notebook-container');\n",
       "if (notebookContainer) {{\n",
       "    x.observe(notebookContainer, {childList: true});\n",
       "}}\n",
       "\n",
       "// Listen for the clearing of the current output cell\n",
       "var outputEl = gd.closest('.output');\n",
       "if (outputEl) {{\n",
       "    x.observe(outputEl, {childList: true});\n",
       "}}\n",
       "\n",
       "                        })                };                });            </script>        </div>"
      ]
     },
     "metadata": {},
     "output_type": "display_data"
    }
   ],
   "source": [
    "import plotly.graph_objects as go\n",
    "fig = go.Figure(\n",
    "    data=[go.Bar(x=['video_title'], y=['like_count'])],\n",
    "    layout=go.Layout(\n",
    "        title=go.layout.Title(text=\"Views, Likes and Comments\")\n",
    "    )\n",
    ")\n",
    "\n",
    "fig.show()"
   ]
  },
  {
   "cell_type": "code",
   "execution_count": 32,
   "id": "fffcca67",
   "metadata": {},
   "outputs": [
    {
     "data": {
      "text/html": [
       "<div>\n",
       "<style scoped>\n",
       "    .dataframe tbody tr th:only-of-type {\n",
       "        vertical-align: middle;\n",
       "    }\n",
       "\n",
       "    .dataframe tbody tr th {\n",
       "        vertical-align: top;\n",
       "    }\n",
       "\n",
       "    .dataframe thead th {\n",
       "        text-align: right;\n",
       "    }\n",
       "</style>\n",
       "<table border=\"1\" class=\"dataframe\">\n",
       "  <thead>\n",
       "    <tr style=\"text-align: right;\">\n",
       "      <th></th>\n",
       "      <th>video_id</th>\n",
       "      <th>video_title</th>\n",
       "      <th>upload_date</th>\n",
       "      <th>view_count</th>\n",
       "      <th>like_count</th>\n",
       "      <th>comment_count</th>\n",
       "    </tr>\n",
       "  </thead>\n",
       "  <tbody>\n",
       "    <tr>\n",
       "      <th>148</th>\n",
       "      <td>WVI-jT-B7yw</td>\n",
       "      <td>I Tried The Keto Diet For A Week | Ketogenic D...</td>\n",
       "      <td>2020-09-24</td>\n",
       "      <td>1001415</td>\n",
       "      <td>33065</td>\n",
       "      <td>2672</td>\n",
       "    </tr>\n",
       "    <tr>\n",
       "      <th>124</th>\n",
       "      <td>g1ExW6d5PiY</td>\n",
       "      <td>Eating  Training With Greg Doucette | Squat Ch...</td>\n",
       "      <td>2020-12-13</td>\n",
       "      <td>1013468</td>\n",
       "      <td>50475</td>\n",
       "      <td>3056</td>\n",
       "    </tr>\n",
       "    <tr>\n",
       "      <th>9</th>\n",
       "      <td>pIkbRaz_pSU</td>\n",
       "      <td>I Tried The Worlds Fittest Kids Diet  Workout</td>\n",
       "      <td>2022-01-20</td>\n",
       "      <td>1071061</td>\n",
       "      <td>31112</td>\n",
       "      <td>2432</td>\n",
       "    </tr>\n",
       "    <tr>\n",
       "      <th>175</th>\n",
       "      <td>dzSBkK473mg</td>\n",
       "      <td>I Tried The Vertical Diet For A Week...</td>\n",
       "      <td>2020-06-21</td>\n",
       "      <td>1075208</td>\n",
       "      <td>34935</td>\n",
       "      <td>2191</td>\n",
       "    </tr>\n",
       "    <tr>\n",
       "      <th>198</th>\n",
       "      <td>CCl9b9eWkKs</td>\n",
       "      <td>Full Day of Eating Greg Doucette Style | ANABO...</td>\n",
       "      <td>2020-04-02</td>\n",
       "      <td>1078672</td>\n",
       "      <td>36606</td>\n",
       "      <td>1540</td>\n",
       "    </tr>\n",
       "    <tr>\n",
       "      <th>...</th>\n",
       "      <td>...</td>\n",
       "      <td>...</td>\n",
       "      <td>...</td>\n",
       "      <td>...</td>\n",
       "      <td>...</td>\n",
       "      <td>...</td>\n",
       "    </tr>\n",
       "    <tr>\n",
       "      <th>92</th>\n",
       "      <td>7VU2Dy96Btc</td>\n",
       "      <td>We Tried Chloe Tings Fat Loss Diet (Fake Eater?)</td>\n",
       "      <td>2021-04-01</td>\n",
       "      <td>930577</td>\n",
       "      <td>39437</td>\n",
       "      <td>2787</td>\n",
       "    </tr>\n",
       "    <tr>\n",
       "      <th>186</th>\n",
       "      <td>8GFMs0AeeSg</td>\n",
       "      <td>I Tried The Fruitarian Diet | My Experience Go...</td>\n",
       "      <td>2020-05-14</td>\n",
       "      <td>947359</td>\n",
       "      <td>29440</td>\n",
       "      <td>2703</td>\n",
       "    </tr>\n",
       "    <tr>\n",
       "      <th>167</th>\n",
       "      <td>J7qPpo8edj8</td>\n",
       "      <td>Only Eating Anabolic ICE CREAM For 24 HOURS | ...</td>\n",
       "      <td>2020-07-19</td>\n",
       "      <td>949120</td>\n",
       "      <td>37732</td>\n",
       "      <td>2339</td>\n",
       "    </tr>\n",
       "    <tr>\n",
       "      <th>64</th>\n",
       "      <td>aMMulNeGzZ0</td>\n",
       "      <td>I Tried Michael Phelps Olympic Diet  Training ...</td>\n",
       "      <td>2021-07-08</td>\n",
       "      <td>958475</td>\n",
       "      <td>31651</td>\n",
       "      <td>1923</td>\n",
       "    </tr>\n",
       "    <tr>\n",
       "      <th>188</th>\n",
       "      <td>5u4tpODih2s</td>\n",
       "      <td>Build Muscle Lose Fat // What You Need To Know...</td>\n",
       "      <td>2020-05-07</td>\n",
       "      <td>994957</td>\n",
       "      <td>57800</td>\n",
       "      <td>9226</td>\n",
       "    </tr>\n",
       "  </tbody>\n",
       "</table>\n",
       "<p>254 rows × 6 columns</p>\n",
       "</div>"
      ],
      "text/plain": [
       "        video_id                                        video_title  \\\n",
       "148  WVI-jT-B7yw  I Tried The Keto Diet For A Week | Ketogenic D...   \n",
       "124  g1ExW6d5PiY  Eating  Training With Greg Doucette | Squat Ch...   \n",
       "9    pIkbRaz_pSU      I Tried The Worlds Fittest Kids Diet  Workout   \n",
       "175  dzSBkK473mg            I Tried The Vertical Diet For A Week...   \n",
       "198  CCl9b9eWkKs  Full Day of Eating Greg Doucette Style | ANABO...   \n",
       "..           ...                                                ...   \n",
       "92   7VU2Dy96Btc   We Tried Chloe Tings Fat Loss Diet (Fake Eater?)   \n",
       "186  8GFMs0AeeSg  I Tried The Fruitarian Diet | My Experience Go...   \n",
       "167  J7qPpo8edj8  Only Eating Anabolic ICE CREAM For 24 HOURS | ...   \n",
       "64   aMMulNeGzZ0  I Tried Michael Phelps Olympic Diet  Training ...   \n",
       "188  5u4tpODih2s  Build Muscle Lose Fat // What You Need To Know...   \n",
       "\n",
       "    upload_date view_count like_count comment_count  \n",
       "148  2020-09-24    1001415      33065          2672  \n",
       "124  2020-12-13    1013468      50475          3056  \n",
       "9    2022-01-20    1071061      31112          2432  \n",
       "175  2020-06-21    1075208      34935          2191  \n",
       "198  2020-04-02    1078672      36606          1540  \n",
       "..          ...        ...        ...           ...  \n",
       "92   2021-04-01     930577      39437          2787  \n",
       "186  2020-05-14     947359      29440          2703  \n",
       "167  2020-07-19     949120      37732          2339  \n",
       "64   2021-07-08     958475      31651          1923  \n",
       "188  2020-05-07     994957      57800          9226  \n",
       "\n",
       "[254 rows x 6 columns]"
      ]
     },
     "execution_count": 32,
     "metadata": {},
     "output_type": "execute_result"
    }
   ],
   "source": [
    "df_views = df2.sort_values(by=['view_count'], ascending=True)\n",
    "df_views"
   ]
  },
  {
   "cell_type": "code",
   "execution_count": null,
   "id": "700587e5",
   "metadata": {},
   "outputs": [],
   "source": []
  }
 ],
 "metadata": {
  "interpreter": {
   "hash": "09dde7db870193d2e8760316fb9a620c574c785fa45d27aa0442200149c84d1a"
  },
  "kernelspec": {
   "display_name": "PythonData",
   "language": "python",
   "name": "python3"
  },
  "language_info": {
   "codemirror_mode": {
    "name": "ipython",
    "version": 3
   },
   "file_extension": ".py",
   "mimetype": "text/x-python",
   "name": "python",
   "nbconvert_exporter": "python",
   "pygments_lexer": "ipython3",
   "version": "3.8.8"
  }
 },
 "nbformat": 4,
 "nbformat_minor": 5
}
